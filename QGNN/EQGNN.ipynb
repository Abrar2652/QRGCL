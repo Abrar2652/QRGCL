{
  "cells": [
    {
      "cell_type": "markdown",
      "id": "9949750b",
      "metadata": {
        "id": "9949750b"
      },
      "source": [
        "# Equivariant Quantum Graph Neural Networks (EQGNNs)\n",
        "\n",
        "- Verdon, G., McCourt, T., Luzhnica, E., Singh, V., Leichenauer, S., & Hidary, J. (2019). Quantum Graph Neural Networks. arXiv preprint arXiv:1909.12264. https://arxiv.org/abs/1909.12264\n",
        "- Equivariant Quantum Graph Circuits: https://arxiv.org/abs/2112.05261\n",
        "- Equivariant quantum circuits for learning on weighted graphs: https://www.nature.com/articles/s41534-023-00710-y\n",
        "- All you need is spin: SU(2) equivariant variational quantum circuits based on spin networks: https://arxiv.org/abs/2309.07250\n",
        "- Benchmarking variational quantum circuits with permutation symmetry: https://arxiv.org/pdf/2211.12711.pdf\n",
        "\n",
        "A classical GNN maps a given graph structure into a lower dimensional vector space with characteristic features assigned to nodes and edges. This representation should preserve the topological graph structure, i.e. which nodes are connected, along with the deterministic features of the nodes and attributes of the edges. In the quantum graph structure, classical nodes can be mapped to quantum states, features to the characteristics of the states, edges to the interactions between states, and edge attributes to the strength of the interactions between the quantum states which form the graph. The larger structure of a classical model can then be embedded into the Hamiltonian operator you choose to act on the specified quantum states within the graph which will ultimately determine the dynamics and final state of the quantum algorithm. The equivariance here is introduced as a sum over the final product state elements."
      ]
    },
    {
      "cell_type": "markdown",
      "id": "c748d29b",
      "metadata": {
        "id": "c748d29b"
      },
      "source": [
        "## Import Packages and Device"
      ]
    },
    {
      "cell_type": "code",
      "execution_count": 43,
      "id": "QTdxLN4rR-k7",
      "metadata": {
        "colab": {
          "base_uri": "https://localhost:8080/"
        },
        "id": "QTdxLN4rR-k7",
        "outputId": "8719627d-1328-4b02-e25b-3d383a95311f"
      },
      "outputs": [
        {
          "output_type": "stream",
          "name": "stdout",
          "text": [
            "/bin/bash: line 1: nvidia-smi: command not found\n"
          ]
        }
      ],
      "source": [
        "gpu_info = !nvidia-smi\n",
        "gpu_info = '\\n'.join(gpu_info)\n",
        "if gpu_info.find('failed') >= 0:\n",
        "  print('Not connected to a GPU')\n",
        "else:\n",
        "  print(gpu_info)"
      ]
    },
    {
      "cell_type": "code",
      "execution_count": 44,
      "id": "4QsUJjX4R_a1",
      "metadata": {
        "colab": {
          "base_uri": "https://localhost:8080/"
        },
        "id": "4QsUJjX4R_a1",
        "outputId": "2eaea3b1-d413-40d8-c22d-632f100130c0"
      },
      "outputs": [
        {
          "output_type": "stream",
          "name": "stdout",
          "text": [
            "Requirement already satisfied: particle in /usr/local/lib/python3.10/dist-packages (0.25.2)\n",
            "Requirement already satisfied: attrs>=19.2 in /usr/local/lib/python3.10/dist-packages (from particle) (24.2.0)\n",
            "Requirement already satisfied: hepunits>=2.0.0 in /usr/local/lib/python3.10/dist-packages (from particle) (2.3.5)\n",
            "Requirement already satisfied: typing-extensions>=4.5 in /usr/local/lib/python3.10/dist-packages (from particle) (4.12.2)\n",
            "Requirement already satisfied: pennylane in /usr/local/lib/python3.10/dist-packages (0.38.0)\n",
            "Requirement already satisfied: numpy<2.0 in /usr/local/lib/python3.10/dist-packages (from pennylane) (1.26.4)\n",
            "Requirement already satisfied: scipy in /usr/local/lib/python3.10/dist-packages (from pennylane) (1.13.1)\n",
            "Requirement already satisfied: networkx in /usr/local/lib/python3.10/dist-packages (from pennylane) (3.4)\n",
            "Requirement already satisfied: rustworkx>=0.14.0 in /usr/local/lib/python3.10/dist-packages (from pennylane) (0.15.1)\n",
            "Requirement already satisfied: autograd in /usr/local/lib/python3.10/dist-packages (from pennylane) (1.7.0)\n",
            "Requirement already satisfied: toml in /usr/local/lib/python3.10/dist-packages (from pennylane) (0.10.2)\n",
            "Requirement already satisfied: appdirs in /usr/local/lib/python3.10/dist-packages (from pennylane) (1.4.4)\n",
            "Requirement already satisfied: autoray>=0.6.11 in /usr/local/lib/python3.10/dist-packages (from pennylane) (0.6.12)\n",
            "Requirement already satisfied: cachetools in /usr/local/lib/python3.10/dist-packages (from pennylane) (5.5.0)\n",
            "Requirement already satisfied: pennylane-lightning>=0.38 in /usr/local/lib/python3.10/dist-packages (from pennylane) (0.38.0)\n",
            "Requirement already satisfied: requests in /usr/local/lib/python3.10/dist-packages (from pennylane) (2.32.3)\n",
            "Requirement already satisfied: typing-extensions in /usr/local/lib/python3.10/dist-packages (from pennylane) (4.12.2)\n",
            "Requirement already satisfied: packaging in /usr/local/lib/python3.10/dist-packages (from pennylane) (24.1)\n",
            "Requirement already satisfied: charset-normalizer<4,>=2 in /usr/local/lib/python3.10/dist-packages (from requests->pennylane) (3.4.0)\n",
            "Requirement already satisfied: idna<4,>=2.5 in /usr/local/lib/python3.10/dist-packages (from requests->pennylane) (3.10)\n",
            "Requirement already satisfied: urllib3<3,>=1.21.1 in /usr/local/lib/python3.10/dist-packages (from requests->pennylane) (2.2.3)\n",
            "Requirement already satisfied: certifi>=2017.4.17 in /usr/local/lib/python3.10/dist-packages (from requests->pennylane) (2024.8.30)\n",
            "Requirement already satisfied: torch_geometric in /usr/local/lib/python3.10/dist-packages (2.6.1)\n",
            "Requirement already satisfied: aiohttp in /usr/local/lib/python3.10/dist-packages (from torch_geometric) (3.10.10)\n",
            "Requirement already satisfied: fsspec in /usr/local/lib/python3.10/dist-packages (from torch_geometric) (2024.6.1)\n",
            "Requirement already satisfied: jinja2 in /usr/local/lib/python3.10/dist-packages (from torch_geometric) (3.1.4)\n",
            "Requirement already satisfied: numpy in /usr/local/lib/python3.10/dist-packages (from torch_geometric) (1.26.4)\n",
            "Requirement already satisfied: psutil>=5.8.0 in /usr/local/lib/python3.10/dist-packages (from torch_geometric) (5.9.5)\n",
            "Requirement already satisfied: pyparsing in /usr/local/lib/python3.10/dist-packages (from torch_geometric) (3.1.4)\n",
            "Requirement already satisfied: requests in /usr/local/lib/python3.10/dist-packages (from torch_geometric) (2.32.3)\n",
            "Requirement already satisfied: tqdm in /usr/local/lib/python3.10/dist-packages (from torch_geometric) (4.66.5)\n",
            "Requirement already satisfied: aiohappyeyeballs>=2.3.0 in /usr/local/lib/python3.10/dist-packages (from aiohttp->torch_geometric) (2.4.3)\n",
            "Requirement already satisfied: aiosignal>=1.1.2 in /usr/local/lib/python3.10/dist-packages (from aiohttp->torch_geometric) (1.3.1)\n",
            "Requirement already satisfied: attrs>=17.3.0 in /usr/local/lib/python3.10/dist-packages (from aiohttp->torch_geometric) (24.2.0)\n",
            "Requirement already satisfied: frozenlist>=1.1.1 in /usr/local/lib/python3.10/dist-packages (from aiohttp->torch_geometric) (1.4.1)\n",
            "Requirement already satisfied: multidict<7.0,>=4.5 in /usr/local/lib/python3.10/dist-packages (from aiohttp->torch_geometric) (6.1.0)\n",
            "Requirement already satisfied: yarl<2.0,>=1.12.0 in /usr/local/lib/python3.10/dist-packages (from aiohttp->torch_geometric) (1.14.0)\n",
            "Requirement already satisfied: async-timeout<5.0,>=4.0 in /usr/local/lib/python3.10/dist-packages (from aiohttp->torch_geometric) (4.0.3)\n",
            "Requirement already satisfied: MarkupSafe>=2.0 in /usr/local/lib/python3.10/dist-packages (from jinja2->torch_geometric) (3.0.1)\n",
            "Requirement already satisfied: charset-normalizer<4,>=2 in /usr/local/lib/python3.10/dist-packages (from requests->torch_geometric) (3.4.0)\n",
            "Requirement already satisfied: idna<4,>=2.5 in /usr/local/lib/python3.10/dist-packages (from requests->torch_geometric) (3.10)\n",
            "Requirement already satisfied: urllib3<3,>=1.21.1 in /usr/local/lib/python3.10/dist-packages (from requests->torch_geometric) (2.2.3)\n",
            "Requirement already satisfied: certifi>=2017.4.17 in /usr/local/lib/python3.10/dist-packages (from requests->torch_geometric) (2024.8.30)\n",
            "Requirement already satisfied: typing-extensions>=4.1.0 in /usr/local/lib/python3.10/dist-packages (from multidict<7.0,>=4.5->aiohttp->torch_geometric) (4.12.2)\n",
            "Requirement already satisfied: propcache>=0.2.0 in /usr/local/lib/python3.10/dist-packages (from yarl<2.0,>=1.12.0->aiohttp->torch_geometric) (0.2.0)\n"
          ]
        }
      ],
      "source": [
        "!pip install particle\n",
        "!pip install pennylane\n",
        "!pip install torch_geometric"
      ]
    },
    {
      "cell_type": "code",
      "execution_count": 45,
      "id": "13dfca3b",
      "metadata": {
        "colab": {
          "base_uri": "https://localhost:8080/"
        },
        "id": "13dfca3b",
        "outputId": "50cc9a94-cad2-412e-dbb7-1754c9eda27d"
      },
      "outputs": [
        {
          "output_type": "stream",
          "name": "stdout",
          "text": [
            "Device:  cpu\n"
          ]
        },
        {
          "output_type": "execute_result",
          "data": {
            "text/plain": [
              "<torch._C.Generator at 0x7fb57d97a4b0>"
            ]
          },
          "metadata": {},
          "execution_count": 45
        }
      ],
      "source": [
        "import pennylane as qml\n",
        "from pennylane import numpy as np\n",
        "import matplotlib.pyplot as plt\n",
        "import scipy\n",
        "import networkx as nx\n",
        "import copy\n",
        "import random\n",
        "\n",
        "# from numpy.random import default_rng\n",
        "import pandas as pd\n",
        "from tqdm import tqdm\n",
        "from time import time\n",
        "import os\n",
        "import copy\n",
        "from particle import Particle\n",
        "\n",
        "# from sklearn.model_selection import train_test_split\n",
        "\n",
        "import torch\n",
        "from torch import nn as nn\n",
        "\n",
        "# from torch.utils.data import TensorDataset, DataLoader, Dataset\n",
        "from torchvision import datasets\n",
        "from torchvision.transforms import ToTensor\n",
        "from torch.nn import Linear\n",
        "import torch.nn.functional as F\n",
        "from scipy import stats\n",
        "from sklearn.metrics import roc_curve, roc_auc_score\n",
        "\n",
        "\n",
        "from torch_geometric.data import Data\n",
        "from torch_geometric.loader import DataLoader\n",
        "from torch_geometric.data import Dataset, InMemoryDataset, download_url\n",
        "\n",
        "# from torch_geometric.nn import GCNConv\n",
        "# from torch_geometric.nn import GATConv\n",
        "# from torch_geometric.nn import Sequential\n",
        "# from torch_geometric import nn\n",
        "# from torch_geometric.nn import global_mean_pool\n",
        "\n",
        "\n",
        "torch.set_default_dtype(torch.float64)\n",
        "device = \"cuda\" if torch.cuda.is_available() else \"cpu\"\n",
        "print(\"Device: \", device)\n",
        "\n",
        "np.random.seed(0)\n",
        "torch.manual_seed(0)"
      ]
    },
    {
      "cell_type": "markdown",
      "id": "a088af02",
      "metadata": {
        "id": "a088af02"
      },
      "source": [
        "## Load Data"
      ]
    },
    {
      "cell_type": "code",
      "execution_count": 46,
      "id": "9cdff064",
      "metadata": {
        "id": "9cdff064"
      },
      "outputs": [],
      "source": [
        "path = \"./\"\n",
        "plot_path = \"./\""
      ]
    },
    {
      "cell_type": "markdown",
      "id": "c4d16dc9",
      "metadata": {
        "id": "c4d16dc9"
      },
      "source": [
        "## Preprocess data"
      ]
    },
    {
      "cell_type": "code",
      "execution_count": 47,
      "id": "7346194b-2120-48d7-bd08-95c0eba5bdd8",
      "metadata": {
        "id": "7346194b-2120-48d7-bd08-95c0eba5bdd8"
      },
      "outputs": [],
      "source": [
        "N = 12500\n",
        "x10_sorted_12500 = np.load( \"./x10_sorted_12500.npy\")[:N]\n",
        "y10_sorted_12500 = np.load( \"./y10_sorted_12500.npy\")[:N]"
      ]
    },
    {
      "cell_type": "code",
      "source": [
        "\n",
        "def preprocess_fixed_nodes_quantum(x_data, y_data, nodes_per_graph=10):  # ,masses):\n",
        "    print(\"--- Finding All Unique Particles ---\")\n",
        "    unique_particles = np.unique(x_data[:, :, 3])\n",
        "    x_data = torch.tensor(x_data)\n",
        "    y_data = torch.tensor(y_data)\n",
        "    print()\n",
        "    print(\"--- Inserting Masses ---\")\n",
        "    masses = torch.zeros((x_data.shape[0], x_data.shape[1]))\n",
        "    for i, particle in tqdm(enumerate(unique_particles)):\n",
        "        if particle != 0:\n",
        "            mass = Particle.from_pdgid(particle).mass / 1000\n",
        "            inds = torch.where(particle == x_data[:, :, 3])\n",
        "            masses[inds] = mass  # GeV\n",
        "    print()\n",
        "    print(\"--- Calculating Momenta and Energies ---\")\n",
        "    # theta = torch.arctan(torch.exp(-X[:,:,1]))*2 # polar angle\n",
        "    pt = x_data[:, :, 0]  # transverse momentum\n",
        "    rapidity = x_data[:, :, 1]  # rapidity\n",
        "    phi = x_data[:, :, 2]  # azimuthal angle\n",
        "\n",
        "    mt = (pt**2 + masses**2).sqrt()  # Transverse mass\n",
        "    energy = mt * torch.cosh(rapidity)  # Energy per multiplicity bin\n",
        "    e_per_jet = energy.sum(\n",
        "        axis=1\n",
        "    )  # total energy per jet summed across multiplicity bins\n",
        "\n",
        "    px = pt * torch.cos(phi)  # momentum in x\n",
        "    py = pt * torch.sin(phi)  # momentum in y\n",
        "    pz = mt * torch.sinh(rapidity)  # momentum in z\n",
        "\n",
        "    # three momentum\n",
        "    p = torch.cat((px[:, :, None], py[:, :, None], pz[:, :, None]), dim=2)\n",
        "\n",
        "    p_per_jet = (p).sum(axis=1)  # total componet momentum per jet\n",
        "    pt_per_Mbin = (\n",
        "        (p_per_jet[:, :2] ** 2).sum(axis=1).sqrt()\n",
        "    )  # transverse momentum per jet\n",
        "    mass_per_jet = (e_per_jet**2 - (p_per_jet**2).sum(axis=1)).sqrt()  # mass per jet\n",
        "    rapidity_per_jet = (\n",
        "        torch.log((e_per_jet + p_per_jet[:, 2]) / (e_per_jet - p_per_jet[:, 2])) / 2\n",
        "    )  # rapidity per jet from analytical formula\n",
        "    end_multiplicity_indx_per_jet = (\n",
        "        (pt != 0).sum(axis=1).int()\n",
        "    )  # see where the jet (graph) ends\n",
        "\n",
        "    x_data = torch.cat(\n",
        "        (x_data[:, :, :3], x_data[:, :, 4:], masses[:, :, None], energy[:, :, None], p),\n",
        "        dim=2,\n",
        "    )\n",
        "\n",
        "    x_data_max = (x_data.max(dim=1).values).max(dim=0).values\n",
        "    x_data = x_data / x_data_max\n",
        "\n",
        "    print()\n",
        "    print(\"--- Calculating Edge Tensors ---\")\n",
        "    N = x_data[:, 0, 3].shape[0]  # number of jets (graphs)\n",
        "    M = nodes_per_graph  # x_data[0,:,3].shape[0]  # number of max multiplicty\n",
        "    connections = nodes_per_graph\n",
        "    edge_tensor = torch.zeros((N, M, M))\n",
        "    edge_indx_tensor = torch.zeros(\n",
        "        (N, 2, connections * (connections - 1))\n",
        "    )  # M*(connections-1) is the max number of edges we allow per jet\n",
        "    edge_attr_matrix = torch.zeros((N, connections * (connections - 1), 1))\n",
        "    #     fixed_edges_list = torch.tensor([ [i,j] for i in range(connections) for j in range(connections) if i!=j]).reshape(2,90)\n",
        "\n",
        "    for jet in tqdm(range(N)):\n",
        "        stop_indx = end_multiplicity_indx_per_jet[\n",
        "            jet\n",
        "        ]  # connections # stop finding edges once we hit zeros -> when we hit 10\n",
        "        if end_multiplicity_indx_per_jet[jet] >= connections:\n",
        "            for m in range(connections):\n",
        "                #                 inds_edge = np.argsort((energy[jet,m]+energy[jet,:stop_indx])**2-torch.sum((p[jet,m,:stop_indx]+p[jet,:stop_indx,:])**2,axis=1))[:connections]\n",
        "                #                 edge_tensor[jet,m,:] = (energy[jet,m]+energy[jet,:connections])**2-torch.sum((p[jet,m,:]+p[jet,:connections,:])**2,axis=1)\n",
        "                #                 edge_tensor[jet,m,m] = 0.\n",
        "                #                 edge_tensor[jet,m,m]=((energy[jet,m]+energy[jet,m])**2-torch.sum((p[jet,m,:]+p[jet,m,:])**2,axis=0))\n",
        "                # inds_edge = torch.sqrt( (phi[jet,m]-phi[jet,:])**2 + (rapidity[jet,m]-rapidity[jet,:])**2 ).argsort()[:connections]\n",
        "                # edge_tensor[jet,m,:] = torch.sqrt( (phi[jet,m]-phi[jet,inds_edge])**2 + (rapidity[jet,m]-rapidity[jet,inds_edge])**2 )\n",
        "                edge_tensor[jet, m, :] = torch.sqrt(\n",
        "                    (phi[jet, m] - phi[jet, :connections]) ** 2\n",
        "                    + (rapidity[jet, m] - rapidity[jet, :connections]) ** 2\n",
        "                )\n",
        "            #                 inds_edge = np.argsort( (energy[jet,m]+energy[jet,:stop_indx])**2-torch.sum((p[jet,m,:stop_indx]+p[jet,:stop_indx,:])**2,axis=1) )[:connections]\n",
        "            #                 edge_tensor[jet,m,inds_edge] = (energy[jet,m]+energy[jet,inds_edge])**2-torch.sum((p[jet,m,:]+p[jet,inds_edge,:])**2,axis=1)\n",
        "            edges_exist_at = torch.where(edge_tensor[jet, :, :].abs() > 0)\n",
        "\n",
        "            #             edge_indx_tensor[jet,:,:(edge_tensor[jet,:,:].abs()>0).sum()] = fixed_edges_list\n",
        "            edge_indx_tensor[jet, :, : (edge_tensor[jet, :, :].abs() > 0).sum()] = (\n",
        "                torch.cat(\n",
        "                    (edges_exist_at[0][None, :], edges_exist_at[1][None, :]), dim=0\n",
        "                ).reshape((2, edges_exist_at[0].shape[0]))\n",
        "            )\n",
        "            edge_attr_matrix[jet, : (edge_tensor[jet, :, :].abs() > 0).sum(), 0] = (\n",
        "                edge_tensor[jet, edges_exist_at[0], edges_exist_at[1]].flatten()\n",
        "            )\n",
        "\n",
        "    end_edges_indx_per_jet = (edge_attr_matrix != 0).sum(axis=1).int()\n",
        "    keep_inds = torch.where(end_edges_indx_per_jet >= connections)[0]\n",
        "\n",
        "    edge_tensor = edge_tensor / edge_tensor.max()\n",
        "    edge_attr_matrix = edge_attr_matrix / edge_attr_matrix.max()\n",
        "\n",
        "    graph_help = torch.cat(\n",
        "        (\n",
        "            (energy.max(axis=1).values / e_per_jet).reshape(\n",
        "                x_data[:, 0, 3].shape[0], 1\n",
        "            ),\n",
        "            (mass_per_jet).reshape(x_data[:, 0, 3].shape[0], 1),\n",
        "            (end_multiplicity_indx_per_jet).reshape(x_data[:, 0, 3].shape[0], 1).int(),\n",
        "            (end_edges_indx_per_jet).reshape(x_data[:, 0, 3].shape[0], 1).int(),\n",
        "        ),\n",
        "        dim=1,\n",
        "    )\n",
        "\n",
        "    print()\n",
        "    print(\"--- Calculating Quantum Hamiltonians ---\")\n",
        "    quantum_hamiltonians = torch.zeros(\n",
        "        (N, 2, int(2**M), int(2**M))\n",
        "    )  # 0: coupling, 1: transverse\n",
        "    for idx in tqdm(keep_inds):\n",
        "        quantum_hamiltonians[idx, 0, :, :] = create_hamiltonian_matrix_interaction(\n",
        "            nodes_per_graph, edge_indx_tensor[idx], edge_attr_matrix[idx]\n",
        "        )\n",
        "        quantum_hamiltonians[idx, 1, :, :] = create_hamiltonian_matrix_transverse(\n",
        "            nodes_per_graph\n",
        "        )\n",
        "\n",
        "    return (\n",
        "        x_data[keep_inds, :nodes_per_graph],\n",
        "        y_data[keep_inds].long(),\n",
        "        edge_tensor[keep_inds],\n",
        "        edge_indx_tensor[keep_inds].long(),\n",
        "        edge_attr_matrix[keep_inds],\n",
        "        graph_help[keep_inds],\n",
        "        quantum_hamiltonians,\n",
        "    )\n",
        "\n",
        "\n",
        "def create_hamiltonian_matrix_interaction(\n",
        "    nodes_per_graph,\n",
        "    edge_indx_tensor,\n",
        "    edge_attr_matrix,\n",
        "    term_dictionary={\n",
        "        0: [np.identity(2), np.identity(2)],\n",
        "        1: [qml.matrix(qml.PauliZ)(0), qml.matrix(qml.PauliZ)(0)],\n",
        "    },\n",
        "):\n",
        "    # n_qubits == number of nodes in graph\n",
        "    # graph == Data frame\n",
        "    # weights == edge_attr\n",
        "    n_qubits = nodes_per_graph  # graph.x.shape[0]\n",
        "    full_matrix = np.zeros((2**n_qubits, 2**n_qubits))\n",
        "    # Creates the interaction component of the Hamiltonian\n",
        "    weights = edge_attr_matrix  # graph.edge_attr\n",
        "    fraction = 1.0 / 4.0\n",
        "    number_of_terms = len(term_dictionary)\n",
        "    for term in range(number_of_terms):\n",
        "        for i, edge in enumerate(edge_indx_tensor.T):  # graph.edge_index.T):\n",
        "            interaction_term = 1\n",
        "            for qubit in range(n_qubits):\n",
        "                if qubit in edge:\n",
        "                    if qubit == edge[0]:\n",
        "                        interaction_term = np.kron(\n",
        "                            interaction_term, term_dictionary[term][0]\n",
        "                        )\n",
        "                    elif qubit == edge[1]:\n",
        "                        interaction_term = np.kron(\n",
        "                            interaction_term, term_dictionary[term][1]\n",
        "                        )\n",
        "                else:\n",
        "                    interaction_term = np.kron(interaction_term, np.identity(2))\n",
        "\n",
        "        if np.all(term_dictionary[term][0] == qml.matrix(qml.PauliZ)(0)):\n",
        "            full_matrix += -fraction * weights[i].numpy() * interaction_term\n",
        "        else:\n",
        "            full_matrix += fraction * weights[i].numpy() * interaction_term\n",
        "    return torch.tensor(full_matrix)\n",
        "\n",
        "\n",
        "def create_hamiltonian_matrix_transverse(nodes_per_graph):\n",
        "    n_qubits = nodes_per_graph  # graph.x.shape[0]\n",
        "    full_matrix = np.zeros((2**n_qubits, 2**n_qubits))\n",
        "    # Creates the bias components of the matrix\n",
        "    for i in range(n_qubits):\n",
        "        x_term = 1\n",
        "        for j in range(n_qubits):\n",
        "            if j == i:\n",
        "                x_term = np.kron(x_term, qml.matrix(qml.PauliX)(0))\n",
        "            else:\n",
        "                x_term = np.kron(x_term, np.identity(2))\n",
        "        full_matrix += x_term\n",
        "    return torch.tensor(full_matrix)\n"
      ],
      "metadata": {
        "id": "FLPDMkreUSM9"
      },
      "id": "FLPDMkreUSM9",
      "execution_count": 48,
      "outputs": []
    },
    {
      "cell_type": "code",
      "execution_count": 49,
      "id": "29278f98-0eee-4144-a69c-7f039cbeb7ea",
      "metadata": {
        "colab": {
          "base_uri": "https://localhost:8080/"
        },
        "id": "29278f98-0eee-4144-a69c-7f039cbeb7ea",
        "outputId": "f15148cc-dbb4-49dd-8f81-f4595bceba37"
      },
      "outputs": [
        {
          "output_type": "stream",
          "name": "stdout",
          "text": [
            "--- Finding All Unique Particles ---\n",
            "\n",
            "--- Inserting Masses ---\n"
          ]
        },
        {
          "output_type": "stream",
          "name": "stderr",
          "text": [
            "14it [00:00, 708.10it/s]\n"
          ]
        },
        {
          "output_type": "stream",
          "name": "stdout",
          "text": [
            "\n",
            "--- Calculating Momenta and Energies ---\n",
            "\n",
            "--- Calculating Edge Tensors ---\n"
          ]
        },
        {
          "output_type": "stream",
          "name": "stderr",
          "text": [
            "100%|██████████| 12500/12500 [00:05<00:00, 2368.82it/s]\n"
          ]
        },
        {
          "output_type": "stream",
          "name": "stdout",
          "text": [
            "\n",
            "--- Calculating Quantum Hamiltonians ---\n"
          ]
        },
        {
          "output_type": "stream",
          "name": "stderr",
          "text": [
            "100%|██████████| 12500/12500 [02:03<00:00, 101.18it/s]\n"
          ]
        }
      ],
      "source": [
        "nodes_per_graph = 3\n",
        "(\n",
        "    x_data_proc,\n",
        "    y_data_proc,\n",
        "    edge_tensor,\n",
        "    edge_indx_tensor,\n",
        "    edge_attr_matrix,\n",
        "    graph_help,\n",
        "    quantum_hamiltonians,\n",
        ") = preprocess_fixed_nodes_quantum(\n",
        "    x10_sorted_12500, y10_sorted_12500, nodes_per_graph=nodes_per_graph\n",
        ")  # ,masses[:N])\n",
        "N = x_data_proc.shape[0]"
      ]
    },
    {
      "cell_type": "code",
      "execution_count": 50,
      "id": "bcb70d25",
      "metadata": {
        "colab": {
          "base_uri": "https://localhost:8080/"
        },
        "id": "bcb70d25",
        "outputId": "9355beaf-71f0-489b-cdc8-f72bf5da00ba"
      },
      "outputs": [
        {
          "output_type": "stream",
          "name": "stdout",
          "text": [
            "----- Check for the correctly sized tensors -----\n",
            "\n",
            "Jet Data: torch.Size([12500, 3, 8])\n",
            "Classification: torch.Size([12500])\n",
            "Full Edge Information: torch.Size([12500, 3, 3])\n",
            "Edge Index Information: torch.Size([12500, 2, 6])\n",
            "Edge Attribute Information: torch.Size([12500, 6, 1])\n",
            "Graph Structure Information: torch.Size([12500, 4])\n",
            "Quantum Information: torch.Size([12500, 2, 8, 8])\n",
            "\n",
            "\n",
            "----- Check that each tensor is normalized -----\n",
            "\n",
            "Jet Data max: 1.0\n",
            "Classification Max: 1\n",
            "Edge Length Max: 1.0\n"
          ]
        }
      ],
      "source": [
        "print(\"----- Check for the correctly sized tensors -----\")\n",
        "print()\n",
        "print(f\"Jet Data: {x_data_proc.shape}\")\n",
        "print(f\"Classification: {y_data_proc.shape}\")\n",
        "print(f\"Full Edge Information: {edge_tensor.shape}\")\n",
        "print(f\"Edge Index Information: {edge_indx_tensor.shape}\")\n",
        "print(f\"Edge Attribute Information: {edge_attr_matrix.shape}\")\n",
        "print(f\"Graph Structure Information: {graph_help.shape}\")\n",
        "print(f\"Quantum Information: {quantum_hamiltonians.shape}\")\n",
        "print(\"\\n\")\n",
        "print(\"----- Check that each tensor is normalized -----\")\n",
        "print()\n",
        "print(f\"Jet Data max: {torch.max(x_data_proc)}\")\n",
        "print(f\"Classification Max: {torch.max(y_data_proc)}\")\n",
        "print(f\"Edge Length Max: {torch.max(edge_tensor)}\")"
      ]
    },
    {
      "cell_type": "code",
      "execution_count": 51,
      "id": "eb2a26a3",
      "metadata": {
        "colab": {
          "base_uri": "https://localhost:8080/"
        },
        "id": "eb2a26a3",
        "outputId": "d5e8aee2-06bf-4db2-e85a-f97679c23f16",
        "scrolled": true
      },
      "outputs": [
        {
          "output_type": "stream",
          "name": "stdout",
          "text": [
            "----- Check the structure of the dataset -----\n",
            "\n",
            "Number of graphs (jets): 12500\n",
            "Number of features per node (p_T(M),y,phi,m,E,px,py,pz): 8\n",
            "Number of classes (2: Quarks or Gluons): 2\n",
            "\n",
            "----- Check the structure of one graph -----\n",
            "\n",
            "Number of nodes (particle IDs): 3\n",
            "Number of edges: 6.0\n",
            "Average node degree: 2.00\n",
            "Is undirected: True\n"
          ]
        }
      ],
      "source": [
        "print(\"----- Check the structure of the dataset -----\")\n",
        "print()\n",
        "print(f\"Number of graphs (jets): {x_data_proc.shape[0]}\")\n",
        "print(\n",
        "    r\"Number of features per node (p_T(M),y,phi,m,E,px,py,pz): \"\n",
        "    + f\"{x_data_proc.shape[2]}\"\n",
        ")\n",
        "print(f\"Number of classes (2: Quarks or Gluons): {np.unique(y_data_proc).shape[0]}\")\n",
        "print()\n",
        "print(\"----- Check the structure of one graph -----\")\n",
        "print()\n",
        "i = 0\n",
        "number_of_edges = graph_help[i, 3]\n",
        "# Gather some statistics about the first graph.\n",
        "print(f\"Number of nodes (particle IDs): {x_data_proc[i,:,0].shape[0]}\")\n",
        "print(f\"Number of edges: {number_of_edges}\")\n",
        "print(f\"Average node degree: {number_of_edges / x_data_proc[i,:,0].shape[0]:.2f}\")\n",
        "print(f\"Is undirected: {True}\")"
      ]
    },
    {
      "cell_type": "code",
      "execution_count": 52,
      "id": "98e1abc0",
      "metadata": {
        "id": "98e1abc0"
      },
      "outputs": [],
      "source": [
        "# Create a dataset class\n",
        "class Create_Dataset(Dataset):\n",
        "    def __init__(\n",
        "        self, edge_index, x, edge_attr, y, graph_info, hamiltonians, transform=None\n",
        "    ):\n",
        "        self.edge_index = edge_index\n",
        "        self.x = x\n",
        "        self.edge_attr = edge_attr\n",
        "        self.y = y\n",
        "        self.graph_info = graph_info\n",
        "        self.hamiltonians = hamiltonians\n",
        "        self.transform = transform\n",
        "\n",
        "    def __len__(self):\n",
        "        return self.y.shape[0]\n",
        "\n",
        "    # Could also just define an x,y,z then pass these variables\n",
        "    # in the training functions over the loop for batch (actually think that way is easier to read)\n",
        "    def __getitem__(self, index):\n",
        "        sample = {\n",
        "            \"edge_index\": self.edge_index[index, :, :],  # self.graph_info[index,3]],\n",
        "            \"x\": self.x[index, :, :],  # int(self.graph_info[index,2]),:],\n",
        "            \"edge_attr\": self.edge_attr[index, :],  # self.graph_info[index,3]],\n",
        "            \"hams\": self.hamiltonians[index, :, :, :],\n",
        "            \"y\": self.y[index],\n",
        "        }\n",
        "\n",
        "        if self.transform is not None:\n",
        "            sample = self.transform(sample)\n",
        "\n",
        "        return sample"
      ]
    },
    {
      "cell_type": "code",
      "execution_count": 53,
      "id": "6595d28a",
      "metadata": {
        "colab": {
          "base_uri": "https://localhost:8080/"
        },
        "id": "6595d28a",
        "outputId": "c24877d0-cc50-4c45-8ebd-7cc943404f4a"
      },
      "outputs": [
        {
          "output_type": "stream",
          "name": "stderr",
          "text": [
            "100%|██████████| 12500/12500 [00:01<00:00, 7598.60it/s] "
          ]
        },
        {
          "output_type": "stream",
          "name": "stdout",
          "text": [
            "Number of training graphs: 10000\n",
            "Number of validation graphs: 1250\n",
            "Number of test graphs: 1250\n"
          ]
        },
        {
          "output_type": "stream",
          "name": "stderr",
          "text": [
            "\n"
          ]
        }
      ],
      "source": [
        "train_index = int(N * 0.8)\n",
        "val_index = int(N * 0.9)\n",
        "batch_size = 1\n",
        "\n",
        "# Create Datasets for Torch for the training and testing pahses\n",
        "dataset = []\n",
        "for i in tqdm(range(N)):\n",
        "    dataset.append(\n",
        "        Data(\n",
        "            edge_index=edge_indx_tensor[i, :, : int(graph_help[i, 3])],\n",
        "            x=x_data_proc[i, : int(graph_help[i, 2]), :],\n",
        "            edge_attr=edge_attr_matrix[i, : int(graph_help[i, 3])],\n",
        "            y=y_data_proc[i],\n",
        "            pos=quantum_hamiltonians[i, :],\n",
        "        )\n",
        "    )\n",
        "\n",
        "training_data = dataset[:train_index]\n",
        "val_data = dataset[train_index:val_index]\n",
        "test_data = dataset[val_index:]\n",
        "# Create data loaders\n",
        "train_quantum_dataloader = DataLoader(\n",
        "    training_data, batch_size=batch_size, shuffle=True, num_workers=0\n",
        ")\n",
        "\n",
        "val_quantum_dataloader = DataLoader(\n",
        "    val_data, batch_size=batch_size, shuffle=False, num_workers=0\n",
        ")\n",
        "\n",
        "test_quantum_dataloader = DataLoader(\n",
        "    test_data, batch_size=batch_size, shuffle=False, num_workers=0\n",
        ")\n",
        "\n",
        "print(f\"Number of training graphs: {train_index}\")\n",
        "print(f\"Number of validation graphs: {val_index-train_index}\")\n",
        "print(f\"Number of test graphs: {N-val_index}\")"
      ]
    },
    {
      "cell_type": "code",
      "execution_count": 54,
      "id": "e13f2422",
      "metadata": {
        "colab": {
          "base_uri": "https://localhost:8080/"
        },
        "id": "e13f2422",
        "outputId": "51cd5ca1-d339-475e-b357-e4da7decd65b"
      },
      "outputs": [
        {
          "output_type": "stream",
          "name": "stdout",
          "text": [
            "Using cpu device\n"
          ]
        }
      ],
      "source": [
        "# Get cpu or gpu device for training.\n",
        "device = \"cuda\" if torch.cuda.is_available() else \"cpu\"\n",
        "print(f\"Using {device} device\")"
      ]
    },
    {
      "cell_type": "markdown",
      "id": "95f0cacf",
      "metadata": {
        "id": "95f0cacf"
      },
      "source": [
        "# Permutation Equivariant Quantum Graph Neural Network (EQGNN)"
      ]
    },
    {
      "cell_type": "code",
      "execution_count": 55,
      "id": "85bf4c82",
      "metadata": {
        "id": "85bf4c82"
      },
      "outputs": [],
      "source": [
        "# number of qubits\n",
        "qubit_number = nodes_per_graph  # M*2\n",
        "qubits = range(qubit_number)"
      ]
    },
    {
      "cell_type": "code",
      "execution_count": 56,
      "id": "71d3a02a",
      "metadata": {
        "id": "71d3a02a"
      },
      "outputs": [],
      "source": [
        "reg1 = copy.copy([i for i in range(nodes_per_graph)])  # load original graph"
      ]
    },
    {
      "cell_type": "code",
      "execution_count": 57,
      "id": "784cf491-3af4-461c-ac64-4a74aabb77de",
      "metadata": {
        "colab": {
          "base_uri": "https://localhost:8080/"
        },
        "id": "784cf491-3af4-461c-ac64-4a74aabb77de",
        "outputId": "ac08327f-f213-4f1c-bfc3-74fbd58993c7"
      },
      "outputs": [
        {
          "output_type": "execute_result",
          "data": {
            "text/plain": [
              "3"
            ]
          },
          "metadata": {},
          "execution_count": 57
        }
      ],
      "source": [
        "qubit_number"
      ]
    },
    {
      "cell_type": "markdown",
      "id": "4l3Gg6iSKyBJ",
      "metadata": {
        "id": "4l3Gg6iSKyBJ"
      },
      "source": [
        "## EQGNN Layers"
      ]
    },
    {
      "cell_type": "code",
      "execution_count": 58,
      "id": "kkMf05NdKwin",
      "metadata": {
        "id": "kkMf05NdKwin"
      },
      "outputs": [],
      "source": [
        "def state_evolve(hamiltonian, qubits, eta, q):\n",
        "    U = torch.linalg.matrix_exp(-1j * eta * hamiltonian).cfloat()\n",
        "    U = q @ U @ q.T.conj()\n",
        "    qml.QubitUnitary(U, wires=qubits)\n",
        "\n",
        "\n",
        "def qgcnn(inputs, weights):\n",
        "    # ham_matrix1, ham_matrix2, tham_matrix1, tham_matrix2 = form_hamiltonians(graph1 = graphs[0], graph2 = graphs[1])\n",
        "    # Prepares the low energy state in the two registers\n",
        "    embedding_features = int(2**qubit_number)\n",
        "    low_energy_state = inputs[1, :embedding_features]\n",
        "    constant = torch.tensor([1.0]).cfloat().to(device)\n",
        "    qml.QubitStateVector(torch.kron(low_energy_state, constant), wires=reg1)\n",
        "    # Evolves the first qubit register with the time-evolution circuit to\n",
        "    # prepare a piece of quantum data\n",
        "    inputs = inputs[0, :].reshape(batch_size, 2, embedding_features, embedding_features)\n",
        "    if batch_size == 1:\n",
        "        inputs = inputs.reshape(2, embedding_features, embedding_features)\n",
        "        coeffs = weights[:, : int(n_layers * 2)].reshape(n_layers, 2)\n",
        "        As = weights[:, int(n_layers * 2) :].reshape(\n",
        "            n_layers, 2, embedding_features, embedding_features\n",
        "        )\n",
        "\n",
        "    for j in range(coeffs.shape[0]):\n",
        "        A = As[j, 0, :, :].cfloat() + 1j * As[j, 1, :, :].cfloat()\n",
        "        I = torch.eye(A.shape[0], dtype=torch.cfloat).to(device)\n",
        "        A = A + A.T.conj()\n",
        "        q = (A - 1j * I) @ torch.linalg.inv(A + 1j * I)\n",
        "        if batch_size == 1:\n",
        "            state_evolve(inputs[0, :, :], reg1, coeffs[j, 0], q)\n",
        "            state_evolve(inputs[1, :, :], reg1, coeffs[j, 1], q)\n",
        "        else:\n",
        "            state_evolve(inputs[:, 0, :, :], reg1, coeffs[j, 0], q)\n",
        "            state_evolve(inputs[:, 1, :, :], reg1, coeffs[j, 1], q)\n",
        "\n",
        "    return [\n",
        "        qml.state()\n",
        "    ]  # For density matrix [ qml.density_matrix(wires=[i for i in range(qubit_number) ]) ]\n",
        "\n",
        "\n",
        "# Define a custom complex activation function (nn.Module)\n",
        "class complex_activation(nn.Module):\n",
        "    def forward(self, x):\n",
        "        return nn.ReLU()(x.real) + 1.0j * nn.ReLU()(x.imag)\n",
        "\n",
        "\n",
        "qgcnn_dev = qml.device(\"default.qubit\", wires=qubit_number)  # , shots=shots)\n",
        "# Defines the new QNode\n",
        "qgcnn_qnode = qml.QNode(\n",
        "    qgcnn,\n",
        "    device=qgcnn_dev,\n",
        "    interface=\"torch\",  # ,#interface='torch', #interface = 'autograd'\n",
        "    diff_method=\"backprop\",\n",
        ")\n",
        "\n",
        "\n",
        "class eigs_fn_torch(nn.Module):\n",
        "    def forward(self, inputs, qstates_comp_basis):\n",
        "        # Compute rotation matrices and eigenvalues\n",
        "        qstates_comp_basis = qstates_comp_basis.flatten().cfloat()\n",
        "        qstates_density_matrix = qstates_comp_basis @ qstates_comp_basis.T\n",
        "        q, r = torch.linalg.qr(qstates_density_matrix)\n",
        "        coupling_ham = (\n",
        "            inputs[0].reshape(2, int(2**nodes_per_graph), int(2**nodes_per_graph))\n",
        "        )[0, :, :].cfloat()\n",
        "        rotUC1 = q @ torch.linalg.matrix_exp(-1j * coupling_ham)\n",
        "        UC1eigs = torch.linalg.eigvals(rotUC1)\n",
        "        return qstates_comp_basis.reshape(\n",
        "            1, qstates_comp_basis.shape[0]\n",
        "        )  # UC1eigs.reshape(1,UC1eigs.shape[0])\n",
        "\n",
        "\n",
        "# Does not work because of pytorch: raises an error due to nonunique solution with phase factor e^{i phi}\n",
        "class eigenvalue_decomposition(nn.Module):\n",
        "    def forward(self, density_matrix):\n",
        "        density_matrix = (\n",
        "            density_matrix.flatten().reshape(nodes_per_graph, 2, 2).cfloat()\n",
        "        )\n",
        "        L, V = torch.linalg.eigh(density_matrix)\n",
        "        V = V.sum(axis=0) / 2**nodes_per_graph\n",
        "        return V.flatten().reshape(1, V.shape[0] ** 2)\n",
        "\n",
        "\n",
        "class qr_decomposition(nn.Module):\n",
        "    def forward(self, density_matrix):\n",
        "        density_matrix = (\n",
        "            density_matrix.flatten().reshape(nodes_per_graph, 2, 2).cfloat()\n",
        "        )\n",
        "        Q, R = torch.linalg.qr(density_matrix)\n",
        "        Q = Q.sum(axis=0) / 2**nodes_per_graph\n",
        "        return Q.flatten().reshape(1, Q.shape[0] ** 2)\n",
        "\n",
        "\n",
        "class product_state(nn.Module):\n",
        "    def forward(self, qstates_comp_basis):\n",
        "        qstates_comp_basis = qstates_comp_basis.flatten().cfloat()\n",
        "        return qstates_comp_basis.reshape(1, qstates_comp_basis.shape[0])\n",
        "\n",
        "\n",
        "class construct_low_energy_state(nn.Module):\n",
        "    def forward(self, encoded_state):\n",
        "        term = torch.tensor([1.0]).cfloat().to(device)\n",
        "        for i in range(encoded_state.shape[0]):\n",
        "            term = torch.kron(encoded_state[i, :], term)\n",
        "        normalize_factor = torch.sqrt(torch.abs(torch.conj(term) @ term))\n",
        "        term = term / normalize_factor\n",
        "        return term"
      ]
    },
    {
      "cell_type": "markdown",
      "id": "B4NQSo69K2Dv",
      "metadata": {
        "id": "B4NQSo69K2Dv"
      },
      "source": [
        "## EQGNN Model"
      ]
    },
    {
      "cell_type": "code",
      "execution_count": 59,
      "id": "f61fbcac",
      "metadata": {
        "id": "f61fbcac"
      },
      "outputs": [],
      "source": [
        "class quantum_iso_model(torch.nn.Module):\n",
        "    def __init__(self, weight_shapes):\n",
        "        super().__init__()\n",
        "        # self.weights = torch.nn.Parameter(torch.randn(n_layers, gamma_and_eta))\n",
        "        # self.transform = torch.nn.Identity()\n",
        "        self.encoder = nn.Sequential(\n",
        "            nn.Linear(x_data_proc.shape[2], 16, dtype=torch.cfloat),\n",
        "            complex_activation(),\n",
        "            nn.Linear(16, 16, dtype=torch.cfloat),\n",
        "            complex_activation(),\n",
        "            nn.Linear(16, 2, dtype=torch.cfloat),\n",
        "        )\n",
        "\n",
        "        self.qlayer = qml.qnn.TorchLayer(qgcnn_qnode, weight_shapes)\n",
        "        self.eigs = eigs_fn_torch()\n",
        "        self.product_state = product_state()\n",
        "        # self.eigenvalue_decomposition = eigenvalue_decomposition()\n",
        "        # self.qr_decomposition = qr_decomposition()\n",
        "        self.state = construct_low_energy_state()\n",
        "\n",
        "        self.decoder = nn.Sequential(\n",
        "            nn.Linear(1, 6 * 2**qubit_number, dtype=torch.cfloat),\n",
        "            complex_activation(),\n",
        "            nn.Linear(6 * 2**qubit_number, 4 * 2**qubit_number, dtype=torch.cfloat),\n",
        "            complex_activation(),\n",
        "            nn.Linear(4 * 2**qubit_number, 2, dtype=torch.cfloat),\n",
        "        )\n",
        "\n",
        "    def forward(self, inputs, features):\n",
        "        embedding = self.encoder(features)\n",
        "        initial_state = self.state(embedding)\n",
        "        initial_state = nn.functional.pad(\n",
        "            initial_state,\n",
        "            (0, inputs.shape[1] - initial_state.shape[0]),\n",
        "            mode=\"constant\",\n",
        "            value=0,\n",
        "        )\n",
        "        x = self.qlayer(torch.vstack([inputs, initial_state]))\n",
        "        x = (\n",
        "            self.product_state(x).sum(axis=1) / x.shape[1]\n",
        "        )  # sum provides permutation equivariance\n",
        "        x = x.reshape(1, 1)\n",
        "        # x = self.eigenvalue_decomposition(x)\n",
        "        # x = self.qr_decomposition(x)\n",
        "        h = self.decoder(x)\n",
        "        return (h * h.conj()).real"
      ]
    },
    {
      "cell_type": "markdown",
      "id": "zXsuznrXJhD0",
      "metadata": {
        "id": "zXsuznrXJhD0"
      },
      "source": [
        "## EQGNN Training Function"
      ]
    },
    {
      "cell_type": "code",
      "execution_count": 60,
      "id": "OHLv6mPqJe9g",
      "metadata": {
        "id": "OHLv6mPqJe9g"
      },
      "outputs": [],
      "source": [
        "def quantum_training(\n",
        "    train_dataloader, val_dataloader, epochs, loss_fn, model, optimizer\n",
        "):\n",
        "\n",
        "    size = len(train_dataloader)\n",
        "    history = {\"train_loss\": [], \"train_acc\": [], \"val_loss\": [], \"val_acc\": []}\n",
        "\n",
        "    best_train_loss = torch.inf\n",
        "    best_val_loss = torch.inf\n",
        "    best_model = None\n",
        "    best_train_acc = 0.0\n",
        "    best_val_acc = 0.0\n",
        "    best_auc = 0.0\n",
        "    best_epoch = 0\n",
        "    count = 0\n",
        "    current_val_loss = 0\n",
        "    best_auc = 0\n",
        "    size_val = len(val_dataloader)\n",
        "    first_idx = torch.arange(0, size_val)\n",
        "    start = time()\n",
        "    for epoch in tqdm(range(epochs)):\n",
        "        train_loss, train_acc, _, _ = train(\n",
        "            model, optimizer, epoch, train_dataloader, backprop=True\n",
        "        )\n",
        "        val_loss, val_acc, val_label, val_pred = train(\n",
        "            model, optimizer, epoch, val_dataloader, backprop=False\n",
        "        )\n",
        "\n",
        "        y_score = val_pred[(first_idx, val_label.astype(\"int32\"))]\n",
        "        auc_score = roc_auc_score(val_label, y_score)\n",
        "\n",
        "        history[\"train_loss\"].append(train_loss)\n",
        "        history[\"train_acc\"].append(train_acc)\n",
        "        history[\"val_loss\"].append(val_loss)\n",
        "        history[\"val_acc\"].append(val_acc)\n",
        "        print(\"\\n\")\n",
        "\n",
        "        if val_loss <= best_val_loss:\n",
        "            best_train_loss = train_loss\n",
        "            best_val_loss = val_loss\n",
        "            best_train_acc = train_acc\n",
        "            best_val_acc = val_acc\n",
        "\n",
        "        if best_auc <= auc_score and epoch >= 15:\n",
        "            # best_model = copy.deepcopy(model)\n",
        "            # best_model_wts = copy.deepcopy(model.state_dict())\n",
        "            best_auc = auc_score\n",
        "            print(f\"Rerun and stop at epoch {epoch} to attain the best classifier.\")\n",
        "\n",
        "            # best_model = copy.deepcopy(model)\n",
        "            # best_model_wts = copy.deepcopy(model.state_dict())\n",
        "            # if current_val_loss>best_val_loss:\n",
        "            #   count=0\n",
        "            # if count==0:\n",
        "            #   best_auc = auc_score\n",
        "            #   current_val_loss = best_val_loss\n",
        "            #   count+=1\n",
        "\n",
        "        if epoch % 1 == 0 or epoch == epochs - 1:  # args.test_interval == 0:\n",
        "            print(\n",
        "                \"Epoch: %d |  Best Train Loss: %.8f | Best Val Loss: %.8f | Best Train Acc: %.8f | Best Val Acc: %.8f\"\n",
        "                % (epoch, best_train_loss, best_val_loss, best_train_acc, best_val_acc)\n",
        "            )\n",
        "            print(\"Epoch: %d |  VAL AUC: %.8f \\n\" % (epoch, auc_score))\n",
        "\n",
        "    end = time()\n",
        "    print(f\"Training Complete. Total Time (s): {end-start}\")\n",
        "    return {\"model\": best_model, \"history\": history}\n",
        "\n",
        "\n",
        "def train(model, optimizer, epoch, loader, backprop=True):\n",
        "    size = len(loader)\n",
        "    num_correct = 0\n",
        "    running_loss = 0.0\n",
        "    loss_list = []\n",
        "    if backprop:\n",
        "        model.train()\n",
        "    else:\n",
        "        model.eval()\n",
        "    all_labels = np.zeros((size,))\n",
        "    all_labels_pred = np.zeros((size, 2))\n",
        "    for batch_idx, data in enumerate(loader):\n",
        "        if batch_idx == 0:\n",
        "            node_size, n_feat = data[0].x.size()\n",
        "        batch_size = data.x.shape[0] // node_size\n",
        "        inputs = data.pos.reshape(\n",
        "            batch_size, 2 * int(2**node_size) * int(2**node_size)\n",
        "        ).to(device)\n",
        "        initial_node_features = data.x.cfloat().to(device)\n",
        "        labels = (\n",
        "            data.y.long()\n",
        "            .reshape(\n",
        "                batch_size,\n",
        "            )\n",
        "            .to(device)\n",
        "        )\n",
        "\n",
        "        labels_pred = model(inputs, initial_node_features)\n",
        "        loss = loss_fn(labels_pred, labels)\n",
        "        loss_list.append(loss.item())\n",
        "        optimizer.zero_grad()\n",
        "        if backprop:\n",
        "            loss.backward()\n",
        "            optimizer.step()\n",
        "        else:\n",
        "            all_labels[batch_idx] = labels\n",
        "            all_labels_pred[batch_idx] = labels_pred.detach().cpu()\n",
        "        num_correct += (labels_pred.argmax(dim=1) == labels).sum().int()\n",
        "        running_loss += loss.item() * batch_size\n",
        "\n",
        "    accuracy = num_correct / size\n",
        "    running_loss = running_loss / size\n",
        "\n",
        "    return running_loss, accuracy, all_labels, all_labels_pred"
      ]
    },
    {
      "cell_type": "code",
      "execution_count": 61,
      "id": "5b58fda2-c65c-480c-950a-a7649d2b0a0c",
      "metadata": {
        "id": "5b58fda2-c65c-480c-950a-a7649d2b0a0c"
      },
      "outputs": [],
      "source": [
        "seed = 3\n",
        "torch.manual_seed(seed)\n",
        "epochs = 19\n",
        "embedding_size = 2**qubit_number\n",
        "n_layers = 6\n",
        "matrix_params = n_layers * embedding_size * embedding_size * 2\n",
        "weight_shapes = {\"weights\": (1, n_layers * 2 + matrix_params)}\n",
        "model = quantum_iso_model(weight_shapes).to(device)\n",
        "lr = 1e-3\n",
        "optimizer = torch.optim.Adam(model.parameters(), lr=lr)\n",
        "loss_fn = torch.nn.CrossEntropyLoss()\n",
        "# print(qml.draw(qgcnn)(train_quantum_hamiltonians[0,:,:,:].flatten().cpu(), model.weights.cpu()))"
      ]
    },
    {
      "cell_type": "code",
      "execution_count": 62,
      "id": "d3b9bb0a-2232-4735-a86b-48f8f53168b8",
      "metadata": {
        "id": "d3b9bb0a-2232-4735-a86b-48f8f53168b8"
      },
      "outputs": [],
      "source": [
        "count = 0\n",
        "for i, param in enumerate(model.parameters()):\n",
        "    if param.dtype == torch.complex64:\n",
        "        count += torch.view_as_real(param).flatten().shape[0]\n",
        "    else:\n",
        "        count += param.flatten().shape[0]"
      ]
    },
    {
      "cell_type": "code",
      "execution_count": 63,
      "id": "3e0886dd-ab7b-46dc-9387-cd9223b5915d",
      "metadata": {
        "colab": {
          "base_uri": "https://localhost:8080/"
        },
        "id": "3e0886dd-ab7b-46dc-9387-cd9223b5915d",
        "outputId": "a843f533-7b15-49a4-d9f3-e389fef2524e"
      },
      "outputs": [
        {
          "output_type": "stream",
          "name": "stdout",
          "text": [
            "5140\n"
          ]
        }
      ],
      "source": [
        "print(count)"
      ]
    },
    {
      "cell_type": "code",
      "execution_count": 64,
      "id": "472db952-3dcb-4d43-90f7-b016739c9568",
      "metadata": {
        "colab": {
          "base_uri": "https://localhost:8080/"
        },
        "id": "472db952-3dcb-4d43-90f7-b016739c9568",
        "outputId": "ec12cf46-829e-4c53-e6f3-488abb3b455d"
      },
      "outputs": [
        {
          "output_type": "execute_result",
          "data": {
            "text/plain": [
              "10000"
            ]
          },
          "metadata": {},
          "execution_count": 64
        }
      ],
      "source": [
        "len(train_quantum_dataloader)"
      ]
    },
    {
      "cell_type": "code",
      "execution_count": 65,
      "id": "723e8a87-e016-4f81-9786-1c8d913a6166",
      "metadata": {
        "colab": {
          "base_uri": "https://localhost:8080/"
        },
        "id": "723e8a87-e016-4f81-9786-1c8d913a6166",
        "outputId": "8e56bb75-5c38-4fd9-a90a-6f6d7f5f0a16",
        "scrolled": true
      },
      "outputs": [
        {
          "output_type": "stream",
          "name": "stderr",
          "text": [
            "  5%|▌         | 1/19 [06:01<1:48:20, 361.12s/it]"
          ]
        },
        {
          "output_type": "stream",
          "name": "stdout",
          "text": [
            "\n",
            "\n",
            "Epoch: 0 |  Best Train Loss: 0.59969004 | Best Val Loss: 0.59301272 | Best Train Acc: 0.68560000 | Best Val Acc: 0.69840000\n",
            "Epoch: 0 |  VAL AUC: 0.21501735 \n",
            "\n"
          ]
        },
        {
          "output_type": "stream",
          "name": "stderr",
          "text": [
            "\r 11%|█         | 2/19 [12:04<1:42:42, 362.52s/it]"
          ]
        },
        {
          "output_type": "stream",
          "name": "stdout",
          "text": [
            "\n",
            "\n",
            "Epoch: 1 |  Best Train Loss: 0.55110059 | Best Val Loss: 0.54596081 | Best Train Acc: 0.72840000 | Best Val Acc: 0.73600000\n",
            "Epoch: 1 |  VAL AUC: 0.49852645 \n",
            "\n"
          ]
        },
        {
          "output_type": "stream",
          "name": "stderr",
          "text": [
            "\r 16%|█▌        | 3/19 [18:09<1:36:54, 363.39s/it]"
          ]
        },
        {
          "output_type": "stream",
          "name": "stdout",
          "text": [
            "\n",
            "\n",
            "Epoch: 2 |  Best Train Loss: 0.55110059 | Best Val Loss: 0.54596081 | Best Train Acc: 0.72840000 | Best Val Acc: 0.73600000\n",
            "Epoch: 2 |  VAL AUC: 0.74197250 \n",
            "\n"
          ]
        },
        {
          "output_type": "stream",
          "name": "stderr",
          "text": [
            "\r 21%|██        | 4/19 [24:15<1:31:10, 364.67s/it]"
          ]
        },
        {
          "output_type": "stream",
          "name": "stdout",
          "text": [
            "\n",
            "\n",
            "Epoch: 3 |  Best Train Loss: 0.54638872 | Best Val Loss: 0.54116217 | Best Train Acc: 0.73430000 | Best Val Acc: 0.73280000\n",
            "Epoch: 3 |  VAL AUC: 0.61104750 \n",
            "\n"
          ]
        },
        {
          "output_type": "stream",
          "name": "stderr",
          "text": [
            "\r 26%|██▋       | 5/19 [30:26<1:25:36, 366.87s/it]"
          ]
        },
        {
          "output_type": "stream",
          "name": "stdout",
          "text": [
            "\n",
            "\n",
            "Epoch: 4 |  Best Train Loss: 0.54638872 | Best Val Loss: 0.54116217 | Best Train Acc: 0.73430000 | Best Val Acc: 0.73280000\n",
            "Epoch: 4 |  VAL AUC: 0.45989844 \n",
            "\n"
          ]
        },
        {
          "output_type": "stream",
          "name": "stderr",
          "text": [
            "\r 32%|███▏      | 6/19 [36:35<1:19:37, 367.50s/it]"
          ]
        },
        {
          "output_type": "stream",
          "name": "stdout",
          "text": [
            "\n",
            "\n",
            "Epoch: 5 |  Best Train Loss: 0.54638872 | Best Val Loss: 0.54116217 | Best Train Acc: 0.73430000 | Best Val Acc: 0.73280000\n",
            "Epoch: 5 |  VAL AUC: 0.72543231 \n",
            "\n"
          ]
        },
        {
          "output_type": "stream",
          "name": "stderr",
          "text": [
            "\r 37%|███▋      | 7/19 [42:43<1:13:34, 367.90s/it]"
          ]
        },
        {
          "output_type": "stream",
          "name": "stdout",
          "text": [
            "\n",
            "\n",
            "Epoch: 6 |  Best Train Loss: 0.54638872 | Best Val Loss: 0.54116217 | Best Train Acc: 0.73430000 | Best Val Acc: 0.73280000\n",
            "Epoch: 6 |  VAL AUC: 0.74311745 \n",
            "\n"
          ]
        },
        {
          "output_type": "stream",
          "name": "stderr",
          "text": [
            "\r 42%|████▏     | 8/19 [48:55<1:07:40, 369.10s/it]"
          ]
        },
        {
          "output_type": "stream",
          "name": "stdout",
          "text": [
            "\n",
            "\n",
            "Epoch: 7 |  Best Train Loss: 0.54638872 | Best Val Loss: 0.54116217 | Best Train Acc: 0.73430000 | Best Val Acc: 0.73280000\n",
            "Epoch: 7 |  VAL AUC: 0.46819549 \n",
            "\n"
          ]
        },
        {
          "output_type": "stream",
          "name": "stderr",
          "text": [
            "\r 47%|████▋     | 9/19 [55:04<1:01:30, 369.00s/it]"
          ]
        },
        {
          "output_type": "stream",
          "name": "stdout",
          "text": [
            "\n",
            "\n",
            "Epoch: 8 |  Best Train Loss: 0.54638872 | Best Val Loss: 0.54116217 | Best Train Acc: 0.73430000 | Best Val Acc: 0.73280000\n",
            "Epoch: 8 |  VAL AUC: 0.61495728 \n",
            "\n"
          ]
        },
        {
          "output_type": "stream",
          "name": "stderr",
          "text": [
            "\r 53%|█████▎    | 10/19 [1:01:11<55:16, 368.54s/it]"
          ]
        },
        {
          "output_type": "stream",
          "name": "stdout",
          "text": [
            "\n",
            "\n",
            "Epoch: 9 |  Best Train Loss: 0.54638872 | Best Val Loss: 0.54116217 | Best Train Acc: 0.73430000 | Best Val Acc: 0.73280000\n",
            "Epoch: 9 |  VAL AUC: 0.37017888 \n",
            "\n"
          ]
        },
        {
          "output_type": "stream",
          "name": "stderr",
          "text": [
            "\r 58%|█████▊    | 11/19 [1:07:19<49:06, 368.29s/it]"
          ]
        },
        {
          "output_type": "stream",
          "name": "stdout",
          "text": [
            "\n",
            "\n",
            "Epoch: 10 |  Best Train Loss: 0.54638872 | Best Val Loss: 0.54116217 | Best Train Acc: 0.73430000 | Best Val Acc: 0.73280000\n",
            "Epoch: 10 |  VAL AUC: 0.37233016 \n",
            "\n"
          ]
        },
        {
          "output_type": "stream",
          "name": "stderr",
          "text": [
            "\r 63%|██████▎   | 12/19 [1:13:25<42:52, 367.47s/it]"
          ]
        },
        {
          "output_type": "stream",
          "name": "stdout",
          "text": [
            "\n",
            "\n",
            "Epoch: 11 |  Best Train Loss: 0.54638872 | Best Val Loss: 0.54116217 | Best Train Acc: 0.73430000 | Best Val Acc: 0.73280000\n",
            "Epoch: 11 |  VAL AUC: 0.43320001 \n",
            "\n"
          ]
        },
        {
          "output_type": "stream",
          "name": "stderr",
          "text": [
            "\r 68%|██████▊   | 13/19 [1:19:29<36:38, 366.40s/it]"
          ]
        },
        {
          "output_type": "stream",
          "name": "stdout",
          "text": [
            "\n",
            "\n",
            "Epoch: 12 |  Best Train Loss: 0.54638872 | Best Val Loss: 0.54116217 | Best Train Acc: 0.73430000 | Best Val Acc: 0.73280000\n",
            "Epoch: 12 |  VAL AUC: 0.56255648 \n",
            "\n"
          ]
        },
        {
          "output_type": "stream",
          "name": "stderr",
          "text": [
            "\r 74%|███████▎  | 14/19 [1:25:36<30:32, 366.58s/it]"
          ]
        },
        {
          "output_type": "stream",
          "name": "stdout",
          "text": [
            "\n",
            "\n",
            "Epoch: 13 |  Best Train Loss: 0.54638872 | Best Val Loss: 0.54116217 | Best Train Acc: 0.73430000 | Best Val Acc: 0.73280000\n",
            "Epoch: 13 |  VAL AUC: 0.37881993 \n",
            "\n"
          ]
        },
        {
          "output_type": "stream",
          "name": "stderr",
          "text": [
            "\r 79%|███████▉  | 15/19 [1:31:42<24:25, 366.49s/it]"
          ]
        },
        {
          "output_type": "stream",
          "name": "stdout",
          "text": [
            "\n",
            "\n",
            "Epoch: 14 |  Best Train Loss: 0.54638872 | Best Val Loss: 0.54116217 | Best Train Acc: 0.73430000 | Best Val Acc: 0.73280000\n",
            "Epoch: 14 |  VAL AUC: 0.41282962 \n",
            "\n"
          ]
        },
        {
          "output_type": "stream",
          "name": "stderr",
          "text": [
            "\r 84%|████████▍ | 16/19 [1:37:49<18:19, 366.54s/it]"
          ]
        },
        {
          "output_type": "stream",
          "name": "stdout",
          "text": [
            "\n",
            "\n",
            "Rerun and stop at epoch 15 to attain the best classifier.\n",
            "Epoch: 15 |  Best Train Loss: 0.53018963 | Best Val Loss: 0.53794792 | Best Train Acc: 0.74410000 | Best Val Acc: 0.73200000\n",
            "Epoch: 15 |  VAL AUC: 0.60450639 \n",
            "\n"
          ]
        },
        {
          "output_type": "stream",
          "name": "stderr",
          "text": [
            "\r 89%|████████▉ | 17/19 [1:43:54<12:12, 366.33s/it]"
          ]
        },
        {
          "output_type": "stream",
          "name": "stdout",
          "text": [
            "\n",
            "\n",
            "Epoch: 16 |  Best Train Loss: 0.52806953 | Best Val Loss: 0.53733530 | Best Train Acc: 0.74490000 | Best Val Acc: 0.72800000\n",
            "Epoch: 16 |  VAL AUC: 0.56672041 \n",
            "\n"
          ]
        },
        {
          "output_type": "stream",
          "name": "stderr",
          "text": [
            "\r 95%|█████████▍| 18/19 [1:50:02<06:06, 366.80s/it]"
          ]
        },
        {
          "output_type": "stream",
          "name": "stdout",
          "text": [
            "\n",
            "\n",
            "Rerun and stop at epoch 17 to attain the best classifier.\n",
            "Epoch: 17 |  Best Train Loss: 0.52806953 | Best Val Loss: 0.53733530 | Best Train Acc: 0.74490000 | Best Val Acc: 0.72800000\n",
            "Epoch: 17 |  VAL AUC: 0.65272016 \n",
            "\n"
          ]
        },
        {
          "output_type": "stream",
          "name": "stderr",
          "text": [
            "100%|██████████| 19/19 [1:57:02<00:00, 369.61s/it]"
          ]
        },
        {
          "output_type": "stream",
          "name": "stdout",
          "text": [
            "\n",
            "\n",
            "Rerun and stop at epoch 18 to attain the best classifier.\n",
            "Epoch: 18 |  Best Train Loss: 0.52806953 | Best Val Loss: 0.53733530 | Best Train Acc: 0.74490000 | Best Val Acc: 0.72800000\n",
            "Epoch: 18 |  VAL AUC: 0.75185605 \n",
            "\n",
            "Training Complete. Total Time (s): 7022.53514289856\n"
          ]
        },
        {
          "output_type": "stream",
          "name": "stderr",
          "text": [
            "\n"
          ]
        }
      ],
      "source": [
        "eqgnn_model_and_history = quantum_training(\n",
        "    train_quantum_dataloader, val_quantum_dataloader, epochs, loss_fn, model, optimizer\n",
        ")"
      ]
    },
    {
      "cell_type": "markdown",
      "id": "44932143-020e-447b-81e8-038ba6e196bb",
      "metadata": {
        "id": "44932143-020e-447b-81e8-038ba6e196bb"
      },
      "source": [
        "# Model Weights and Training History"
      ]
    },
    {
      "cell_type": "code",
      "execution_count": 66,
      "id": "346a1a63-9bc5-49e9-a6e4-ea495d491ae9",
      "metadata": {
        "id": "346a1a63-9bc5-49e9-a6e4-ea495d491ae9"
      },
      "outputs": [],
      "source": [
        "train_acc = []\n",
        "for i, val in enumerate(eqgnn_model_and_history[\"history\"][\"train_acc\"]):\n",
        "    train_acc.append(val.cpu().detach().numpy())\n",
        "\n",
        "val_acc = []\n",
        "for i, val in enumerate(eqgnn_model_and_history[\"history\"][\"val_acc\"]):\n",
        "    val_acc.append(val.cpu().detach().numpy())"
      ]
    },
    {
      "cell_type": "code",
      "execution_count": 67,
      "id": "0f94e7ae",
      "metadata": {
        "colab": {
          "base_uri": "https://localhost:8080/",
          "height": 567
        },
        "id": "0f94e7ae",
        "outputId": "f3602d7a-6f8a-4cf0-a491-38155ded12f6"
      },
      "outputs": [
        {
          "output_type": "display_data",
          "data": {
            "text/plain": [
              "<Figure size 800x500 with 1 Axes>"
            ],
            "image/png": "[encoded data removed]"
          },
          "metadata": {}
        }
      ],
      "source": [
        "plt.figure(figsize=(8, 5))\n",
        "plt.plot(\n",
        "    eqgnn_model_and_history[\"history\"][\"train_loss\"],\n",
        "    c=\"b\",\n",
        "    label=f\"Train Loss ({train_index} jets)\",\n",
        ")\n",
        "plt.plot(\n",
        "    eqgnn_model_and_history[\"history\"][\"val_loss\"],\n",
        "    c=\"darkorange\",\n",
        "    label=f\"Val Loss ({val_index-train_index} jets)\",\n",
        ")\n",
        "plt.plot(train_acc, c=\"cyan\", label=\"Train Accuracy\")\n",
        "plt.plot(val_acc, c=\"orangered\", label=\"Val Accuracy\")\n",
        "plt.title(\n",
        "    f\"EQGNN\\n $|\\Theta| = {count}$,  $N_h={embedding_size}$,  $P={n_layers}$\",\n",
        "    fontsize=25,\n",
        ")\n",
        "plt.xlabel(\"Epoch\", fontsize=25)\n",
        "plt.ylabel(\"Loss/Accuracy\", fontsize=25)\n",
        "plt.legend(fontsize=13, loc=\"lower right\")\n",
        "plt.xticks(fontsize=13, ticks=[i for i in range(0, epochs, 2)])\n",
        "plt.yticks(fontsize=14)\n",
        "plt.ylim([0.40, 0.76])\n",
        "plt.savefig(\n",
        "    plot_path + f\"eqgnn_training_{count}_{embedding_size}_{n_layers}_{seed}.png\",\n",
        "    bbox_inches=\"tight\",\n",
        ")"
      ]
    },
    {
      "cell_type": "code",
      "execution_count": 68,
      "id": "0718161a-8b6c-4679-b213-a221fd6b6dc6",
      "metadata": {
        "id": "0718161a-8b6c-4679-b213-a221fd6b6dc6"
      },
      "outputs": [],
      "source": [
        "model.eval()\n",
        "with torch.no_grad():\n",
        "    size = len(test_quantum_dataloader)\n",
        "    num_correct = 0\n",
        "    labels_all = None\n",
        "    for i, data in enumerate(test_quantum_dataloader):\n",
        "        if i == 0:\n",
        "            node_size, n_feat = data[0].x.size()\n",
        "        batch_size = data.x.shape[0] // node_size\n",
        "        inputs = data.pos.reshape(\n",
        "            batch_size, 2 * int(2**node_size) * int(2**node_size)\n",
        "        ).to(device)\n",
        "        labels = (\n",
        "            data.y.long()\n",
        "            .reshape(\n",
        "                batch_size,\n",
        "            )\n",
        "            .to(device)\n",
        "        )\n",
        "\n",
        "        labels_pred = model(inputs, data.x.cfloat().to(device))\n",
        "        num_correct += (labels_pred.argmax(dim=1) == labels).sum().int()\n",
        "\n",
        "        if labels_all is not None:\n",
        "            labels_all = torch.cat([labels_all, labels], dim=0)\n",
        "            labels_pred_all = torch.cat([labels_pred_all, labels_pred], dim=0)\n",
        "        else:\n",
        "            labels_all = copy.deepcopy(labels)\n",
        "            labels_pred_all = copy.deepcopy(labels_pred)"
      ]
    },
    {
      "cell_type": "code",
      "source": [
        "model.eval()\n",
        "with torch.no_grad():\n",
        "    size = len(test_quantum_dataloader)\n",
        "    num_correct = 0\n",
        "    labels_all = None\n",
        "    for i,data in enumerate(test_quantum_dataloader):\n",
        "        if i==0:\n",
        "            node_size, n_feat = data[0].x.size()\n",
        "        batch_size = data.x.shape[0]//node_size\n",
        "        inputs = data.pos.reshape(batch_size,2*int(2**node_size)*int(2**node_size)).to(device)\n",
        "        labels = data.y.long().reshape(batch_size,).to(device)\n",
        "\n",
        "        labels_pred = model(inputs,data.x.cfloat().to(device))\n",
        "        num_correct += (labels_pred.argmax(dim=1)==labels).sum().int()\n",
        "\n",
        "        if labels_all is not None:\n",
        "            labels_all = torch.cat([labels_all,labels],dim=0)\n",
        "            labels_pred_all = torch.cat([labels_pred_all,labels_pred],dim=0)\n",
        "        else:\n",
        "            labels_all = copy.deepcopy(labels)\n",
        "            labels_pred_all = copy.deepcopy(labels_pred)"
      ],
      "metadata": {
        "id": "kUpvTrjL-UUV"
      },
      "id": "kUpvTrjL-UUV",
      "execution_count": 69,
      "outputs": []
    },
    {
      "cell_type": "code",
      "execution_count": 70,
      "id": "3d4da7b9-161e-4429-9bf4-ad111c6dea3f",
      "metadata": {
        "colab": {
          "base_uri": "https://localhost:8080/",
          "height": 365
        },
        "id": "3d4da7b9-161e-4429-9bf4-ad111c6dea3f",
        "outputId": "50da87f3-194c-48a8-9354-86a22cc7f162"
      },
      "outputs": [
        {
          "output_type": "display_data",
          "data": {
            "text/plain": [
              "<Figure size 400x300 with 2 Axes>"
            ],
            "image/png": "[encoded data removed]"
          },
          "metadata": {}
        },
        {
          "output_type": "stream",
          "name": "stdout",
          "text": [
            "Accuracy for EQGNN:  tensor(0.7144)\n"
          ]
        }
      ],
      "source": [
        "from sklearn.metrics import confusion_matrix\n",
        "\n",
        "# Calculate the confusion matrix\n",
        "from sklearn.metrics import confusion_matrix\n",
        "\n",
        "# Move tensors to CPU and convert to NumPy arrays\n",
        "labels_all_np = labels_all.cpu().numpy()\n",
        "labels_pred_all_np = labels_pred_all.argmax(dim=1).cpu().numpy()\n",
        "\n",
        "# Calculate the confusion matrix\n",
        "conf_matrix = confusion_matrix(y_true=labels_all_np, y_pred=labels_pred_all_np)\n",
        "\n",
        "# conf_matrix = confusion_matrix(y_true=labels_all, y_pred=labels_pred_all.argmax(dim=1))\n",
        "# Print the confusion matrix using Matplotlib\n",
        "fig, ax = plt.subplots(figsize=(4, 3))\n",
        "im = ax.imshow(conf_matrix, cmap=plt.cm.Blues, alpha=0.3)\n",
        "for i in range(conf_matrix.shape[0]):\n",
        "    for j in range(conf_matrix.shape[1]):\n",
        "        ax.text(\n",
        "            x=j, y=i, s=conf_matrix[i, j], va=\"center\", ha=\"center\", size=\"xx-large\"\n",
        "        )\n",
        "plt.xlabel(\"Pred\", fontsize=18)\n",
        "plt.ylabel(\"True\", fontsize=18)\n",
        "plt.title(\"Confusion Matrix for EQGNN\", fontsize=18)\n",
        "plt.xticks(ticks=[0, 1], labels=[\"Gluon\", \"Quark\"])\n",
        "plt.yticks(ticks=[0, 1], labels=[\"Gluon\", \"Quark\"])\n",
        "plt.colorbar(im)\n",
        "plt.show()\n",
        "\n",
        "size = labels_all.shape[0]\n",
        "num_correct = (labels_all == labels_pred_all.argmax(dim=1)).sum().int()\n",
        "print(\"Accuracy for EQGNN: \", num_correct / size)"
      ]
    },
    {
      "cell_type": "code",
      "execution_count": 71,
      "id": "1fca400d-cd2f-49b4-84c9-fa1f06b8b5f0",
      "metadata": {
        "id": "1fca400d-cd2f-49b4-84c9-fa1f06b8b5f0"
      },
      "outputs": [],
      "source": [
        "from sklearn.metrics import roc_curve, roc_auc_score\n",
        "\n",
        "first_idx = torch.arange(0, labels_pred_all.cpu().numpy().shape[0])\n",
        "y_score_eqgnn = labels_pred_all[(first_idx, labels_all.int())]\n",
        "fpr_eqgnn, tpr_eqgnn, thresholds = roc_curve(labels_all.cpu().numpy(), y_score_eqgnn.cpu().numpy())\n",
        "auc_score_eqgnn = roc_auc_score(labels_all.cpu().numpy(), y_score_eqgnn.cpu().numpy())"
      ]
    },
    {
      "cell_type": "code",
      "execution_count": 72,
      "id": "9JP8i0wd8zMa",
      "metadata": {
        "id": "9JP8i0wd8zMa"
      },
      "outputs": [],
      "source": [
        "# np.save(\n",
        "#     plot_path + f\"fpr_eqgnn_{count}_{embedding_size}_{n_layers}_{seed}.npy\", fpr_eqgnn\n",
        "# )\n",
        "# np.save(\n",
        "#     plot_path + f\"tpr_eqgnn_{count}_{embedding_size}_{n_layers}_{seed}.npy\", tpr_eqgnn\n",
        "# )\n",
        "# np.save(\n",
        "#     plot_path + f\"y_score_eqgnn_{count}_{embedding_size}_{n_layers}_{seed}.npy\",\n",
        "#     y_score_eqgnn,\n",
        "# )\n",
        "# np.save(\n",
        "#     plot_path + f\"labels_all_eqgnn_{count}_{embedding_size}_{n_layers}_{seed}.npy\",\n",
        "#     labels_all.numpy(),\n",
        "# )"
      ]
    },
    {
      "cell_type": "code",
      "source": [
        "import csv\n",
        "\n",
        "# Save first 4 variables to CSV (train_loss, val_loss, train_acc, val_acc)\n",
        "with open('eqgnn_model_history.csv', 'w', newline='') as file1:\n",
        "    writer = csv.writer(file1)\n",
        "    # Writing the headers\n",
        "    writer.writerow(['train_loss', 'val_loss', 'train_acc', 'val_acc'])\n",
        "    # Writing the data\n",
        "    for i in range(len(eqgnn_model_and_history[\"history\"][\"train_loss\"])):\n",
        "        writer.writerow([\n",
        "            eqgnn_model_and_history[\"history\"][\"train_loss\"][i],\n",
        "            eqgnn_model_and_history[\"history\"][\"val_loss\"][i],\n",
        "            eqgnn_model_and_history[\"history\"][\"train_acc\"][i].cpu().numpy(),\n",
        "            eqgnn_model_and_history[\"history\"][\"val_acc\"][i].cpu().numpy()\n",
        "        ])\n",
        "\n",
        "# Save last 4 variables to another CSV (fpr_eqgnn, tpr_eqgnn, labels_all, y_score_eqgnn)\n",
        "with open('eqgnn_roc_data.csv', 'w', newline='') as file2:\n",
        "    writer = csv.writer(file2)\n",
        "    # Writing the headers\n",
        "    writer.writerow(['fpr_eqgnn', 'tpr_eqgnn', 'labels_all', 'y_score_eqgnn'])\n",
        "    # Writing the data\n",
        "    for i in range(len(fpr_eqgnn)):\n",
        "        writer.writerow([\n",
        "            fpr_eqgnn[i],\n",
        "            tpr_eqgnn[i],\n",
        "            labels_all[i].cpu().numpy(),\n",
        "            y_score_eqgnn[i].cpu().numpy()\n",
        "        ])\n"
      ],
      "metadata": {
        "id": "Bx2g8yDdrplw"
      },
      "id": "Bx2g8yDdrplw",
      "execution_count": 73,
      "outputs": []
    },
    {
      "cell_type": "code",
      "execution_count": 74,
      "id": "50c4ea94-04b0-49d5-a9e3-f809282e8a85",
      "metadata": {
        "id": "50c4ea94-04b0-49d5-a9e3-f809282e8a85",
        "colab": {
          "base_uri": "https://localhost:8080/",
          "height": 447
        },
        "outputId": "a4064815-2d51-4954-b709-4934a5f962bc"
      },
      "outputs": [
        {
          "output_type": "execute_result",
          "data": {
            "text/plain": [
              "<matplotlib.legend.Legend at 0x7fb53991ff70>"
            ]
          },
          "metadata": {},
          "execution_count": 74
        },
        {
          "output_type": "display_data",
          "data": {
            "text/plain": [
              "<Figure size 640x480 with 1 Axes>"
            ],
            "image/png": "[encoded data removed]"
          },
          "metadata": {}
        }
      ],
      "source": [
        "plt.plot(fpr_eqgnn, tpr_eqgnn, label=f\"AUC Score: {100*auc_score_eqgnn:.3f}\", c=\"b\")\n",
        "plt.legend()"
      ]
    },
    {
      "cell_type": "code",
      "execution_count": 75,
      "id": "LhaT4k8Xr8S1",
      "metadata": {
        "id": "LhaT4k8Xr8S1",
        "colab": {
          "base_uri": "https://localhost:8080/",
          "height": 452
        },
        "outputId": "a65baa4f-eb19-42e7-9188-976dfc2f5922"
      },
      "outputs": [
        {
          "output_type": "stream",
          "name": "stdout",
          "text": [
            "Test Loss: 0.5672\n",
            "Test Accuracy: 71.4\n",
            "Area Under Curve (AUC): 0.7436\n",
            "F1 Score: 0.7122\n",
            "IMTAFE: 0.7306\n",
            "Results saved to 'eqgnn_evaluation_results.csv'\n"
          ]
        },
        {
          "output_type": "display_data",
          "data": {
            "text/plain": [
              "<Figure size 400x300 with 2 Axes>"
            ],
            "image/png": "[encoded data removed]"
          },
          "metadata": {}
        }
      ],
      "source": [
        "import torch\n",
        "from sklearn.metrics import confusion_matrix, roc_curve, roc_auc_score, f1_score\n",
        "import matplotlib.pyplot as plt\n",
        "import copy\n",
        "import csv\n",
        "\n",
        "model.eval()\n",
        "with torch.no_grad():\n",
        "    size = len(test_quantum_dataloader)\n",
        "    num_correct = 0\n",
        "    labels_all = None\n",
        "    total_loss = 0.0\n",
        "    criterion = torch.nn.CrossEntropyLoss()  # Assuming you're using CrossEntropyLoss\n",
        "\n",
        "    for i, data in enumerate(test_quantum_dataloader):\n",
        "        if i == 0:\n",
        "            node_size, n_feat = data[0].x.size()\n",
        "        batch_size = data.x.shape[0] // node_size\n",
        "        inputs = data.pos.reshape(batch_size, 2 * int(2**node_size) * int(2**node_size)).to(device)\n",
        "        labels = data.y.long().reshape(batch_size,).to(device)\n",
        "\n",
        "        labels_pred = model(inputs, data.x.cfloat().to(device))\n",
        "        loss = criterion(labels_pred, labels)\n",
        "        total_loss += loss.item() * batch_size\n",
        "        num_correct += (labels_pred.argmax(dim=1) == labels).sum().int()\n",
        "\n",
        "        if labels_all is not None:\n",
        "            labels_all = torch.cat([labels_all, labels], dim=0)\n",
        "            labels_pred_all = torch.cat([labels_pred_all, labels_pred], dim=0)\n",
        "        else:\n",
        "            labels_all = copy.deepcopy(labels)\n",
        "            labels_pred_all = copy.deepcopy(labels_pred)\n",
        "\n",
        "    # Calculate metrics\n",
        "    test_loss = total_loss / len(test_quantum_dataloader.dataset)\n",
        "    test_accuracy = 100.0 * num_correct / len(test_quantum_dataloader.dataset)\n",
        "\n",
        "    labels_all_cpu = labels_all.cpu()\n",
        "    labels_pred_all_cpu = labels_pred_all.cpu()\n",
        "\n",
        "    conf_matrix = confusion_matrix(y_true=labels_all_cpu, y_pred=labels_pred_all_cpu.argmax(dim=1))\n",
        "\n",
        "    first_idx = torch.arange(0, labels_pred_all.shape[0])\n",
        "    y_score_qgnn = labels_pred_all[(first_idx, labels_all.int())]\n",
        "    fpr_qgnn, tpr_qgnn, thresholds = roc_curve(labels_all_cpu, y_score_qgnn.cpu())\n",
        "    auc_score_qgnn = roc_auc_score(labels_all_cpu, y_score_qgnn.cpu())\n",
        "\n",
        "    f1 = f1_score(labels_all_cpu, labels_pred_all_cpu.argmax(dim=1), average='weighted')\n",
        "\n",
        "    # Calculate IMTAFE (assuming it's the Intersection over Mean)\n",
        "    TP = conf_matrix[1, 1]\n",
        "    FP = conf_matrix[0, 1]\n",
        "    FN = conf_matrix[1, 0]\n",
        "    IMTAFE = 2 * TP / (2 * TP + FP + FN)\n",
        "\n",
        "    # Print results\n",
        "    print(f\"Test Loss: {test_loss:.4f}\")\n",
        "    print(f\"Test Accuracy: {test_accuracy:.1f}\")\n",
        "    print(f\"Area Under Curve (AUC): {auc_score_qgnn:.4f}\")\n",
        "    print(f\"F1 Score: {f1:.4f}\")\n",
        "    print(f\"IMTAFE: {IMTAFE:.4f}\")\n",
        "\n",
        "    # Save results to CSV\n",
        "    results = [\n",
        "        [\"Metric\", \"Value\"],\n",
        "        [\"Test Loss\", f\"{test_loss:.4f}\"],\n",
        "        [\"Test Accuracy\", f\"{test_accuracy:.1f}\"],\n",
        "        [\"Area Under Curve (AUC)\", f\"{auc_score_qgnn:.4f}\"],\n",
        "        [\"F1 Score\", f\"{f1:.4f}\"],\n",
        "        [\"IMTAFE\", f\"{IMTAFE:.4f}\"]\n",
        "    ]\n",
        "\n",
        "    with open('qgnn_evaluation_results.csv', 'w', newline='') as file:\n",
        "        writer = csv.writer(file)\n",
        "        writer.writerows(results)\n",
        "\n",
        "    print(\"Results saved to 'eqgnn_evaluation_results.csv'\")\n",
        "\n",
        "    # Confusion Matrix Visualization\n",
        "    fig, ax = plt.subplots(figsize=(4, 3))\n",
        "    im = ax.imshow(conf_matrix, cmap=plt.cm.Blues, alpha=0.3)\n",
        "    for i in range(conf_matrix.shape[0]):\n",
        "        for j in range(conf_matrix.shape[1]):\n",
        "            ax.text(x=j, y=i, s=conf_matrix[i, j], va='center', ha='center', size='xx-large')\n",
        "    plt.xlabel('Pred', fontsize=18)\n",
        "    plt.ylabel('True', fontsize=18)\n",
        "    plt.title('Confusion Matrix for QGNN', fontsize=18)\n",
        "    plt.xticks(ticks=[0,1], labels=['Gluon','Quark'])\n",
        "    plt.yticks(ticks=[0,1], labels=['Gluon','Quark'])\n",
        "    plt.colorbar(im)\n",
        "    plt.show()\n",
        "\n",
        "# Note: Training metrics are not available in this evaluation code.\n",
        "# They should be collected during the training phase."
      ]
    },
    {
      "cell_type": "code",
      "source": [],
      "metadata": {
        "id": "LkBmPffvwiHw"
      },
      "id": "LkBmPffvwiHw",
      "execution_count": 75,
      "outputs": []
    }
  ],
  "metadata": {
    "colab": {
      "provenance": []
    },
    "kernelspec": {
      "display_name": "Python 3",
      "name": "python3"
    },
    "language_info": {
      "codemirror_mode": {
        "name": "ipython",
        "version": 3
      },
      "file_extension": ".py",
      "mimetype": "text/x-python",
      "name": "python",
      "nbconvert_exporter": "python",
      "pygments_lexer": "ipython3",
      "version": "3.11.3"
    }
  },
  "nbformat": 4,
  "nbformat_minor": 5
}