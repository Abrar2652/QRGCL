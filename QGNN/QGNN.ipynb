{
  "cells": [
    {
      "cell_type": "markdown",
      "metadata": {
        "id": "9949750b"
      },
      "source": [
        "# Quantum Graph Neural Networks (QGNNs)\n",
        "\n",
        "- Verdon, G., McCourt, T., Luzhnica, E., Singh, V., Leichenauer, S., & Hidary, J. (2019). Quantum Graph Neural Networks. arXiv preprint arXiv:1909.12264. https://arxiv.org/abs/1909.12264\n",
        "- Equivariant Quantum Graph Circuits: https://arxiv.org/abs/2112.05261\n",
        "- Equivariant quantum circuits for learning on weighted graphs: https://www.nature.com/articles/s41534-023-00710-y\n",
        "- All you need is spin: SU(2) equivariant variational quantum circuits based on spin networks: https://arxiv.org/abs/2309.07250\n",
        "- Benchmarking variational quantum circuits with permutation symmetry: https://arxiv.org/pdf/2211.12711.pdf\n",
        "\n",
        "A classical GNN maps a given graph structure into a lower dimensional vector space with characteristic features assigned to nodes and edges. This representation should preserve the topological graph structure, i.e. which nodes are connected, along with the deterministic features of the nodes and attributes of the edges. In the quantum graph structure, classical nodes can be mapped to quantum states, features to the characteristics of the states, edges to the interactions between states, and edge attributes to the strength of the interactions between the quantum states which form the graph. The larger structure of a classical model can then be embedded into the Hamiltonian operator you choose to act on the specified quantum states within the graph which will ultimately determine the dynamics and final state of the quantum algorithm."
      ],
      "id": "9949750b"
    },
    {
      "cell_type": "markdown",
      "metadata": {
        "id": "c748d29b"
      },
      "source": [
        "## Import Packages and Device"
      ],
      "id": "c748d29b"
    },
    {
      "cell_type": "code",
      "execution_count": 72,
      "metadata": {
        "colab": {
          "base_uri": "https://localhost:8080/"
        },
        "id": "QTdxLN4rR-k7",
        "outputId": "4f13bf7a-3173-48db-ed6e-45473b4484c0"
      },
      "outputs": [
        {
          "output_type": "stream",
          "name": "stdout",
          "text": [
            "/bin/bash: line 1: nvidia-smi: command not found\n"
          ]
        }
      ],
      "source": [
        "gpu_info = !nvidia-smi\n",
        "gpu_info = '\\n'.join(gpu_info)\n",
        "if gpu_info.find('failed') >= 0:\n",
        "  print('Not connected to a GPU')\n",
        "else:\n",
        "  print(gpu_info)"
      ],
      "id": "QTdxLN4rR-k7"
    },
    {
      "cell_type": "code",
      "execution_count": 73,
      "metadata": {
        "colab": {
          "base_uri": "https://localhost:8080/"
        },
        "id": "4QsUJjX4R_a1",
        "outputId": "c4657b94-bd1c-4006-b006-4ac2f53907c6"
      },
      "outputs": [
        {
          "output_type": "stream",
          "name": "stdout",
          "text": [
            "Requirement already satisfied: particle in /usr/local/lib/python3.10/dist-packages (0.25.2)\n",
            "Requirement already satisfied: attrs>=19.2 in /usr/local/lib/python3.10/dist-packages (from particle) (24.2.0)\n",
            "Requirement already satisfied: hepunits>=2.0.0 in /usr/local/lib/python3.10/dist-packages (from particle) (2.3.5)\n",
            "Requirement already satisfied: typing-extensions>=4.5 in /usr/local/lib/python3.10/dist-packages (from particle) (4.12.2)\n",
            "Requirement already satisfied: pennylane in /usr/local/lib/python3.10/dist-packages (0.38.0)\n",
            "Requirement already satisfied: numpy<2.0 in /usr/local/lib/python3.10/dist-packages (from pennylane) (1.26.4)\n",
            "Requirement already satisfied: scipy in /usr/local/lib/python3.10/dist-packages (from pennylane) (1.13.1)\n",
            "Requirement already satisfied: networkx in /usr/local/lib/python3.10/dist-packages (from pennylane) (3.4)\n",
            "Requirement already satisfied: rustworkx>=0.14.0 in /usr/local/lib/python3.10/dist-packages (from pennylane) (0.15.1)\n",
            "Requirement already satisfied: autograd in /usr/local/lib/python3.10/dist-packages (from pennylane) (1.7.0)\n",
            "Requirement already satisfied: toml in /usr/local/lib/python3.10/dist-packages (from pennylane) (0.10.2)\n",
            "Requirement already satisfied: appdirs in /usr/local/lib/python3.10/dist-packages (from pennylane) (1.4.4)\n",
            "Requirement already satisfied: autoray>=0.6.11 in /usr/local/lib/python3.10/dist-packages (from pennylane) (0.6.12)\n",
            "Requirement already satisfied: cachetools in /usr/local/lib/python3.10/dist-packages (from pennylane) (5.5.0)\n",
            "Requirement already satisfied: pennylane-lightning>=0.38 in /usr/local/lib/python3.10/dist-packages (from pennylane) (0.38.0)\n",
            "Requirement already satisfied: requests in /usr/local/lib/python3.10/dist-packages (from pennylane) (2.32.3)\n",
            "Requirement already satisfied: typing-extensions in /usr/local/lib/python3.10/dist-packages (from pennylane) (4.12.2)\n",
            "Requirement already satisfied: packaging in /usr/local/lib/python3.10/dist-packages (from pennylane) (24.1)\n",
            "Requirement already satisfied: charset-normalizer<4,>=2 in /usr/local/lib/python3.10/dist-packages (from requests->pennylane) (3.4.0)\n",
            "Requirement already satisfied: idna<4,>=2.5 in /usr/local/lib/python3.10/dist-packages (from requests->pennylane) (3.10)\n",
            "Requirement already satisfied: urllib3<3,>=1.21.1 in /usr/local/lib/python3.10/dist-packages (from requests->pennylane) (2.2.3)\n",
            "Requirement already satisfied: certifi>=2017.4.17 in /usr/local/lib/python3.10/dist-packages (from requests->pennylane) (2024.8.30)\n",
            "Requirement already satisfied: torch_geometric in /usr/local/lib/python3.10/dist-packages (2.6.1)\n",
            "Requirement already satisfied: aiohttp in /usr/local/lib/python3.10/dist-packages (from torch_geometric) (3.10.10)\n",
            "Requirement already satisfied: fsspec in /usr/local/lib/python3.10/dist-packages (from torch_geometric) (2024.6.1)\n",
            "Requirement already satisfied: jinja2 in /usr/local/lib/python3.10/dist-packages (from torch_geometric) (3.1.4)\n",
            "Requirement already satisfied: numpy in /usr/local/lib/python3.10/dist-packages (from torch_geometric) (1.26.4)\n",
            "Requirement already satisfied: psutil>=5.8.0 in /usr/local/lib/python3.10/dist-packages (from torch_geometric) (5.9.5)\n",
            "Requirement already satisfied: pyparsing in /usr/local/lib/python3.10/dist-packages (from torch_geometric) (3.1.4)\n",
            "Requirement already satisfied: requests in /usr/local/lib/python3.10/dist-packages (from torch_geometric) (2.32.3)\n",
            "Requirement already satisfied: tqdm in /usr/local/lib/python3.10/dist-packages (from torch_geometric) (4.66.5)\n",
            "Requirement already satisfied: aiohappyeyeballs>=2.3.0 in /usr/local/lib/python3.10/dist-packages (from aiohttp->torch_geometric) (2.4.3)\n",
            "Requirement already satisfied: aiosignal>=1.1.2 in /usr/local/lib/python3.10/dist-packages (from aiohttp->torch_geometric) (1.3.1)\n",
            "Requirement already satisfied: attrs>=17.3.0 in /usr/local/lib/python3.10/dist-packages (from aiohttp->torch_geometric) (24.2.0)\n",
            "Requirement already satisfied: frozenlist>=1.1.1 in /usr/local/lib/python3.10/dist-packages (from aiohttp->torch_geometric) (1.4.1)\n",
            "Requirement already satisfied: multidict<7.0,>=4.5 in /usr/local/lib/python3.10/dist-packages (from aiohttp->torch_geometric) (6.1.0)\n",
            "Requirement already satisfied: yarl<2.0,>=1.12.0 in /usr/local/lib/python3.10/dist-packages (from aiohttp->torch_geometric) (1.14.0)\n",
            "Requirement already satisfied: async-timeout<5.0,>=4.0 in /usr/local/lib/python3.10/dist-packages (from aiohttp->torch_geometric) (4.0.3)\n",
            "Requirement already satisfied: MarkupSafe>=2.0 in /usr/local/lib/python3.10/dist-packages (from jinja2->torch_geometric) (3.0.1)\n",
            "Requirement already satisfied: charset-normalizer<4,>=2 in /usr/local/lib/python3.10/dist-packages (from requests->torch_geometric) (3.4.0)\n",
            "Requirement already satisfied: idna<4,>=2.5 in /usr/local/lib/python3.10/dist-packages (from requests->torch_geometric) (3.10)\n",
            "Requirement already satisfied: urllib3<3,>=1.21.1 in /usr/local/lib/python3.10/dist-packages (from requests->torch_geometric) (2.2.3)\n",
            "Requirement already satisfied: certifi>=2017.4.17 in /usr/local/lib/python3.10/dist-packages (from requests->torch_geometric) (2024.8.30)\n",
            "Requirement already satisfied: typing-extensions>=4.1.0 in /usr/local/lib/python3.10/dist-packages (from multidict<7.0,>=4.5->aiohttp->torch_geometric) (4.12.2)\n",
            "Requirement already satisfied: propcache>=0.2.0 in /usr/local/lib/python3.10/dist-packages (from yarl<2.0,>=1.12.0->aiohttp->torch_geometric) (0.2.0)\n"
          ]
        }
      ],
      "source": [
        "!pip install particle\n",
        "!pip install pennylane\n",
        "!pip install torch_geometric"
      ],
      "id": "4QsUJjX4R_a1"
    },
    {
      "cell_type": "code",
      "execution_count": 74,
      "metadata": {
        "colab": {
          "base_uri": "https://localhost:8080/"
        },
        "id": "13dfca3b",
        "outputId": "90b869f1-7229-44f6-c344-cb3346183faf"
      },
      "outputs": [
        {
          "output_type": "stream",
          "name": "stdout",
          "text": [
            "Device:  cpu\n"
          ]
        },
        {
          "output_type": "execute_result",
          "data": {
            "text/plain": [
              "<torch._C.Generator at 0x7b6655a9bc70>"
            ]
          },
          "metadata": {},
          "execution_count": 74
        }
      ],
      "source": [
        "import pennylane as qml\n",
        "from pennylane import numpy as np\n",
        "import matplotlib.pyplot as plt\n",
        "import scipy\n",
        "import networkx as nx\n",
        "import copy\n",
        "import random\n",
        "\n",
        "# from numpy.random import default_rng\n",
        "import pandas as pd\n",
        "from tqdm import tqdm\n",
        "from time import time\n",
        "import os\n",
        "import copy\n",
        "from particle import Particle\n",
        "# from sklearn.model_selection import train_test_split\n",
        "\n",
        "import torch\n",
        "from torch import nn as nn\n",
        "# from torch.utils.data import TensorDataset, DataLoader, Dataset\n",
        "from torchvision import datasets\n",
        "from torchvision.transforms import ToTensor\n",
        "from torch.nn import Linear\n",
        "import torch.nn.functional as F\n",
        "from scipy import stats\n",
        "from sklearn.metrics import roc_curve, roc_auc_score\n",
        "\n",
        "\n",
        "from torch_geometric.data import Data\n",
        "from torch_geometric.loader import DataLoader\n",
        "from torch_geometric.data import Dataset, InMemoryDataset, download_url\n",
        "# from torch_geometric.nn import GCNConv\n",
        "# from torch_geometric.nn import GATConv\n",
        "# from torch_geometric.nn import Sequential\n",
        "# from torch_geometric import nn\n",
        "# from torch_geometric.nn import global_mean_pool\n",
        "\n",
        "\n",
        "torch.set_default_dtype(torch.float64)\n",
        "device = \"cuda\" if torch.cuda.is_available() else \"cpu\"\n",
        "print('Device: ',device)\n",
        "\n",
        "np.random.seed(0)\n",
        "torch.manual_seed(0)"
      ],
      "id": "13dfca3b"
    },
    {
      "cell_type": "markdown",
      "metadata": {
        "id": "a088af02"
      },
      "source": [
        "## Load Data"
      ],
      "id": "a088af02"
    },
    {
      "cell_type": "code",
      "execution_count": 75,
      "metadata": {
        "id": "9cdff064"
      },
      "outputs": [],
      "source": [
        "path = './'\n",
        "plot_path = './'"
      ],
      "id": "9cdff064"
    },
    {
      "cell_type": "markdown",
      "metadata": {
        "id": "c4d16dc9"
      },
      "source": [
        "## Preprocess data"
      ],
      "id": "c4d16dc9"
    },
    {
      "cell_type": "code",
      "execution_count": 76,
      "metadata": {
        "id": "7346194b-2120-48d7-bd08-95c0eba5bdd8"
      },
      "outputs": [],
      "source": [
        "N=12500\n",
        "x10_sorted_12500 = np.load('./x10_sorted_12500.npy')[:N]\n",
        "y10_sorted_12500 = np.load('./y10_sorted_12500.npy')[:N]"
      ],
      "id": "7346194b-2120-48d7-bd08-95c0eba5bdd8"
    },
    {
      "cell_type": "code",
      "source": [
        "\n",
        "def preprocess_fixed_nodes_quantum(x_data, y_data, nodes_per_graph=10):  # ,masses):\n",
        "    print(\"--- Finding All Unique Particles ---\")\n",
        "    unique_particles = np.unique(x_data[:, :, 3])\n",
        "    x_data = torch.tensor(x_data)\n",
        "    y_data = torch.tensor(y_data)\n",
        "    print()\n",
        "    print(\"--- Inserting Masses ---\")\n",
        "    masses = torch.zeros((x_data.shape[0], x_data.shape[1]))\n",
        "    for i, particle in tqdm(enumerate(unique_particles)):\n",
        "        if particle != 0:\n",
        "            mass = Particle.from_pdgid(particle).mass / 1000\n",
        "            inds = torch.where(particle == x_data[:, :, 3])\n",
        "            masses[inds] = mass  # GeV\n",
        "    print()\n",
        "    print(\"--- Calculating Momenta and Energies ---\")\n",
        "    # theta = torch.arctan(torch.exp(-X[:,:,1]))*2 # polar angle\n",
        "    pt = x_data[:, :, 0]  # transverse momentum\n",
        "    rapidity = x_data[:, :, 1]  # rapidity\n",
        "    phi = x_data[:, :, 2]  # azimuthal angle\n",
        "\n",
        "    mt = (pt**2 + masses**2).sqrt()  # Transverse mass\n",
        "    energy = mt * torch.cosh(rapidity)  # Energy per multiplicity bin\n",
        "    e_per_jet = energy.sum(\n",
        "        axis=1\n",
        "    )  # total energy per jet summed across multiplicity bins\n",
        "\n",
        "    px = pt * torch.cos(phi)  # momentum in x\n",
        "    py = pt * torch.sin(phi)  # momentum in y\n",
        "    pz = mt * torch.sinh(rapidity)  # momentum in z\n",
        "\n",
        "    # three momentum\n",
        "    p = torch.cat((px[:, :, None], py[:, :, None], pz[:, :, None]), dim=2)\n",
        "\n",
        "    p_per_jet = (p).sum(axis=1)  # total componet momentum per jet\n",
        "    pt_per_Mbin = (\n",
        "        (p_per_jet[:, :2] ** 2).sum(axis=1).sqrt()\n",
        "    )  # transverse momentum per jet\n",
        "    mass_per_jet = (e_per_jet**2 - (p_per_jet**2).sum(axis=1)).sqrt()  # mass per jet\n",
        "    rapidity_per_jet = (\n",
        "        torch.log((e_per_jet + p_per_jet[:, 2]) / (e_per_jet - p_per_jet[:, 2])) / 2\n",
        "    )  # rapidity per jet from analytical formula\n",
        "    end_multiplicity_indx_per_jet = (\n",
        "        (pt != 0).sum(axis=1).int()\n",
        "    )  # see where the jet (graph) ends\n",
        "\n",
        "    x_data = torch.cat(\n",
        "        (x_data[:, :, :3], x_data[:, :, 4:], masses[:, :, None], energy[:, :, None], p),\n",
        "        dim=2,\n",
        "    )\n",
        "\n",
        "    x_data_max = (x_data.max(dim=1).values).max(dim=0).values\n",
        "    x_data = x_data / x_data_max\n",
        "\n",
        "    print()\n",
        "    print(\"--- Calculating Edge Tensors ---\")\n",
        "    N = x_data[:, 0, 3].shape[0]  # number of jets (graphs)\n",
        "    M = nodes_per_graph  # x_data[0,:,3].shape[0]  # number of max multiplicty\n",
        "    connections = nodes_per_graph\n",
        "    edge_tensor = torch.zeros((N, M, M))\n",
        "    edge_indx_tensor = torch.zeros(\n",
        "        (N, 2, connections * (connections - 1))\n",
        "    )  # M*(connections-1) is the max number of edges we allow per jet\n",
        "    edge_attr_matrix = torch.zeros((N, connections * (connections - 1), 1))\n",
        "    #     fixed_edges_list = torch.tensor([ [i,j] for i in range(connections) for j in range(connections) if i!=j]).reshape(2,90)\n",
        "\n",
        "    for jet in tqdm(range(N)):\n",
        "        stop_indx = end_multiplicity_indx_per_jet[\n",
        "            jet\n",
        "        ]  # connections # stop finding edges once we hit zeros -> when we hit 10\n",
        "        if end_multiplicity_indx_per_jet[jet] >= connections:\n",
        "            for m in range(connections):\n",
        "                #                 inds_edge = np.argsort((energy[jet,m]+energy[jet,:stop_indx])**2-torch.sum((p[jet,m,:stop_indx]+p[jet,:stop_indx,:])**2,axis=1))[:connections]\n",
        "                #                 edge_tensor[jet,m,:] = (energy[jet,m]+energy[jet,:connections])**2-torch.sum((p[jet,m,:]+p[jet,:connections,:])**2,axis=1)\n",
        "                #                 edge_tensor[jet,m,m] = 0.\n",
        "                #                 edge_tensor[jet,m,m]=((energy[jet,m]+energy[jet,m])**2-torch.sum((p[jet,m,:]+p[jet,m,:])**2,axis=0))\n",
        "                # inds_edge = torch.sqrt( (phi[jet,m]-phi[jet,:])**2 + (rapidity[jet,m]-rapidity[jet,:])**2 ).argsort()[:connections]\n",
        "                # edge_tensor[jet,m,:] = torch.sqrt( (phi[jet,m]-phi[jet,inds_edge])**2 + (rapidity[jet,m]-rapidity[jet,inds_edge])**2 )\n",
        "                edge_tensor[jet, m, :] = torch.sqrt(\n",
        "                    (phi[jet, m] - phi[jet, :connections]) ** 2\n",
        "                    + (rapidity[jet, m] - rapidity[jet, :connections]) ** 2\n",
        "                )\n",
        "            #                 inds_edge = np.argsort( (energy[jet,m]+energy[jet,:stop_indx])**2-torch.sum((p[jet,m,:stop_indx]+p[jet,:stop_indx,:])**2,axis=1) )[:connections]\n",
        "            #                 edge_tensor[jet,m,inds_edge] = (energy[jet,m]+energy[jet,inds_edge])**2-torch.sum((p[jet,m,:]+p[jet,inds_edge,:])**2,axis=1)\n",
        "            edges_exist_at = torch.where(edge_tensor[jet, :, :].abs() > 0)\n",
        "\n",
        "            #             edge_indx_tensor[jet,:,:(edge_tensor[jet,:,:].abs()>0).sum()] = fixed_edges_list\n",
        "            edge_indx_tensor[jet, :, : (edge_tensor[jet, :, :].abs() > 0).sum()] = (\n",
        "                torch.cat(\n",
        "                    (edges_exist_at[0][None, :], edges_exist_at[1][None, :]), dim=0\n",
        "                ).reshape((2, edges_exist_at[0].shape[0]))\n",
        "            )\n",
        "            edge_attr_matrix[jet, : (edge_tensor[jet, :, :].abs() > 0).sum(), 0] = (\n",
        "                edge_tensor[jet, edges_exist_at[0], edges_exist_at[1]].flatten()\n",
        "            )\n",
        "\n",
        "    end_edges_indx_per_jet = (edge_attr_matrix != 0).sum(axis=1).int()\n",
        "    keep_inds = torch.where(end_edges_indx_per_jet >= connections)[0]\n",
        "\n",
        "    edge_tensor = edge_tensor / edge_tensor.max()\n",
        "    edge_attr_matrix = edge_attr_matrix / edge_attr_matrix.max()\n",
        "\n",
        "    graph_help = torch.cat(\n",
        "        (\n",
        "            (energy.max(axis=1).values / e_per_jet).reshape(\n",
        "                x_data[:, 0, 3].shape[0], 1\n",
        "            ),\n",
        "            (mass_per_jet).reshape(x_data[:, 0, 3].shape[0], 1),\n",
        "            (end_multiplicity_indx_per_jet).reshape(x_data[:, 0, 3].shape[0], 1).int(),\n",
        "            (end_edges_indx_per_jet).reshape(x_data[:, 0, 3].shape[0], 1).int(),\n",
        "        ),\n",
        "        dim=1,\n",
        "    )\n",
        "\n",
        "    print()\n",
        "    print(\"--- Calculating Quantum Hamiltonians ---\")\n",
        "    quantum_hamiltonians = torch.zeros(\n",
        "        (N, 2, int(2**M), int(2**M))\n",
        "    )  # 0: coupling, 1: transverse\n",
        "    for idx in tqdm(keep_inds):\n",
        "        quantum_hamiltonians[idx, 0, :, :] = create_hamiltonian_matrix_interaction(\n",
        "            nodes_per_graph, edge_indx_tensor[idx], edge_attr_matrix[idx]\n",
        "        )\n",
        "        quantum_hamiltonians[idx, 1, :, :] = create_hamiltonian_matrix_transverse(\n",
        "            nodes_per_graph\n",
        "        )\n",
        "\n",
        "    return (\n",
        "        x_data[keep_inds, :nodes_per_graph],\n",
        "        y_data[keep_inds].long(),\n",
        "        edge_tensor[keep_inds],\n",
        "        edge_indx_tensor[keep_inds].long(),\n",
        "        edge_attr_matrix[keep_inds],\n",
        "        graph_help[keep_inds],\n",
        "        quantum_hamiltonians,\n",
        "    )\n",
        "\n",
        "\n",
        "def create_hamiltonian_matrix_interaction(\n",
        "    nodes_per_graph,\n",
        "    edge_indx_tensor,\n",
        "    edge_attr_matrix,\n",
        "    term_dictionary={\n",
        "        0: [np.identity(2), np.identity(2)],\n",
        "        1: [qml.matrix(qml.PauliZ)(0), qml.matrix(qml.PauliZ)(0)],\n",
        "    },\n",
        "):\n",
        "    # n_qubits == number of nodes in graph\n",
        "    # graph == Data frame\n",
        "    # weights == edge_attr\n",
        "    n_qubits = nodes_per_graph  # graph.x.shape[0]\n",
        "    full_matrix = np.zeros((2**n_qubits, 2**n_qubits))\n",
        "    # Creates the interaction component of the Hamiltonian\n",
        "    weights = edge_attr_matrix  # graph.edge_attr\n",
        "    fraction = 1.0 / 4.0\n",
        "    number_of_terms = len(term_dictionary)\n",
        "    for term in range(number_of_terms):\n",
        "        for i, edge in enumerate(edge_indx_tensor.T):  # graph.edge_index.T):\n",
        "            interaction_term = 1\n",
        "            for qubit in range(n_qubits):\n",
        "                if qubit in edge:\n",
        "                    if qubit == edge[0]:\n",
        "                        interaction_term = np.kron(\n",
        "                            interaction_term, term_dictionary[term][0]\n",
        "                        )\n",
        "                    elif qubit == edge[1]:\n",
        "                        interaction_term = np.kron(\n",
        "                            interaction_term, term_dictionary[term][1]\n",
        "                        )\n",
        "                else:\n",
        "                    interaction_term = np.kron(interaction_term, np.identity(2))\n",
        "\n",
        "        if np.all(term_dictionary[term][0] == qml.matrix(qml.PauliZ)(0)):\n",
        "            full_matrix += -fraction * weights[i].numpy() * interaction_term\n",
        "        else:\n",
        "            full_matrix += fraction * weights[i].numpy() * interaction_term\n",
        "    return torch.tensor(full_matrix)\n",
        "\n",
        "\n",
        "def create_hamiltonian_matrix_transverse(nodes_per_graph):\n",
        "    n_qubits = nodes_per_graph  # graph.x.shape[0]\n",
        "    full_matrix = np.zeros((2**n_qubits, 2**n_qubits))\n",
        "    # Creates the bias components of the matrix\n",
        "    for i in range(n_qubits):\n",
        "        x_term = 1\n",
        "        for j in range(n_qubits):\n",
        "            if j == i:\n",
        "                x_term = np.kron(x_term, qml.matrix(qml.PauliX)(0))\n",
        "            else:\n",
        "                x_term = np.kron(x_term, np.identity(2))\n",
        "        full_matrix += x_term\n",
        "    return torch.tensor(full_matrix)\n"
      ],
      "metadata": {
        "id": "pVpdX1PwUrll"
      },
      "id": "pVpdX1PwUrll",
      "execution_count": 77,
      "outputs": []
    },
    {
      "cell_type": "code",
      "execution_count": 78,
      "metadata": {
        "colab": {
          "base_uri": "https://localhost:8080/"
        },
        "id": "29278f98-0eee-4144-a69c-7f039cbeb7ea",
        "outputId": "2e706080-4c9b-446a-9848-6b1025242247"
      },
      "outputs": [
        {
          "output_type": "stream",
          "name": "stdout",
          "text": [
            "--- Finding All Unique Particles ---\n",
            "\n",
            "--- Inserting Masses ---\n"
          ]
        },
        {
          "output_type": "stream",
          "name": "stderr",
          "text": [
            "14it [00:00, 596.34it/s]\n"
          ]
        },
        {
          "output_type": "stream",
          "name": "stdout",
          "text": [
            "\n",
            "--- Calculating Momenta and Energies ---\n",
            "\n",
            "--- Calculating Edge Tensors ---\n"
          ]
        },
        {
          "output_type": "stream",
          "name": "stderr",
          "text": [
            "100%|██████████| 12500/12500 [00:10<00:00, 1202.51it/s]\n"
          ]
        },
        {
          "output_type": "stream",
          "name": "stdout",
          "text": [
            "\n",
            "--- Calculating Quantum Hamiltonians ---\n"
          ]
        },
        {
          "output_type": "stream",
          "name": "stderr",
          "text": [
            "100%|██████████| 12500/12500 [02:22<00:00, 87.71it/s] \n"
          ]
        }
      ],
      "source": [
        "nodes_per_graph = 3\n",
        "x_data_proc, y_data_proc, edge_tensor, edge_indx_tensor, edge_attr_matrix, graph_help, quantum_hamiltonians = preprocess_fixed_nodes_quantum(x10_sorted_12500,y10_sorted_12500,nodes_per_graph = nodes_per_graph) #,masses[:N])\n",
        "N = x_data_proc.shape[0]"
      ],
      "id": "29278f98-0eee-4144-a69c-7f039cbeb7ea"
    },
    {
      "cell_type": "code",
      "execution_count": 79,
      "metadata": {
        "colab": {
          "base_uri": "https://localhost:8080/"
        },
        "id": "bcb70d25",
        "outputId": "c6493899-b4ce-413c-93d0-2bebb8b66653"
      },
      "outputs": [
        {
          "output_type": "stream",
          "name": "stdout",
          "text": [
            "----- Check for the correctly sized tensors -----\n",
            "\n",
            "Jet Data: torch.Size([12500, 3, 8])\n",
            "Classification: torch.Size([12500])\n",
            "Full Edge Information: torch.Size([12500, 3, 3])\n",
            "Edge Index Information: torch.Size([12500, 2, 6])\n",
            "Edge Attribute Information: torch.Size([12500, 6, 1])\n",
            "Graph Structure Information: torch.Size([12500, 4])\n",
            "Quantum Information: torch.Size([12500, 2, 8, 8])\n",
            "\n",
            "\n",
            "----- Check that each tensor is normalized -----\n",
            "\n",
            "Jet Data max: 1.0\n",
            "Classification Max: 1\n",
            "Edge Length Max: 1.0\n"
          ]
        }
      ],
      "source": [
        "print('----- Check for the correctly sized tensors -----')\n",
        "print()\n",
        "print(f'Jet Data: {x_data_proc.shape}')\n",
        "print(f'Classification: {y_data_proc.shape}')\n",
        "print(f'Full Edge Information: {edge_tensor.shape}')\n",
        "print(f'Edge Index Information: {edge_indx_tensor.shape}')\n",
        "print(f'Edge Attribute Information: {edge_attr_matrix.shape}')\n",
        "print(f'Graph Structure Information: {graph_help.shape}')\n",
        "print(f'Quantum Information: {quantum_hamiltonians.shape}')\n",
        "print('\\n')\n",
        "print('----- Check that each tensor is normalized -----')\n",
        "print()\n",
        "print(f'Jet Data max: {torch.max(x_data_proc)}')\n",
        "print(f'Classification Max: {torch.max(y_data_proc)}')\n",
        "print(f'Edge Length Max: {torch.max(edge_tensor)}')"
      ],
      "id": "bcb70d25"
    },
    {
      "cell_type": "code",
      "execution_count": 80,
      "metadata": {
        "colab": {
          "base_uri": "https://localhost:8080/"
        },
        "id": "eb2a26a3",
        "outputId": "c5d58484-0aad-4566-cf64-44e9b80e9a78",
        "scrolled": true
      },
      "outputs": [
        {
          "output_type": "stream",
          "name": "stdout",
          "text": [
            "----- Check the structure of the dataset -----\n",
            "\n",
            "Number of graphs (jets): 12500\n",
            "Number of features per node (p_T(M),y,phi,m,E,px,py,pz): 8\n",
            "Number of classes (2: Quarks or Gluons): 2\n",
            "\n",
            "----- Check the structure of one graph -----\n",
            "\n",
            "Number of nodes (particle IDs): 3\n",
            "Number of edges: 6.0\n",
            "Average node degree: 2.00\n",
            "Is undirected: True\n"
          ]
        }
      ],
      "source": [
        "print('----- Check the structure of the dataset -----')\n",
        "print()\n",
        "print(f'Number of graphs (jets): {x_data_proc.shape[0]}')\n",
        "print(r'Number of features per node (p_T(M),y,phi,m,E,px,py,pz): '+f'{x_data_proc.shape[2]}')\n",
        "print(f'Number of classes (2: Quarks or Gluons): {np.unique(y_data_proc).shape[0]}')\n",
        "print()\n",
        "print('----- Check the structure of one graph -----')\n",
        "print()\n",
        "i=0\n",
        "number_of_edges = graph_help[i,3]\n",
        "# Gather some statistics about the first graph.\n",
        "print(f'Number of nodes (particle IDs): {x_data_proc[i,:,0].shape[0]}')\n",
        "print(f'Number of edges: {number_of_edges}')\n",
        "print(f'Average node degree: {number_of_edges / x_data_proc[i,:,0].shape[0]:.2f}')\n",
        "print(f'Is undirected: {True}')"
      ],
      "id": "eb2a26a3"
    },
    {
      "cell_type": "code",
      "execution_count": 81,
      "metadata": {
        "id": "98e1abc0"
      },
      "outputs": [],
      "source": [
        "# Create a dataset class\n",
        "class Create_Dataset(Dataset):\n",
        "    def __init__(self, edge_index, x, edge_attr, y, graph_info, hamiltonians, transform=None):\n",
        "        self.edge_index = edge_index\n",
        "        self.x          = x\n",
        "        self.edge_attr  = edge_attr\n",
        "        self.y          = y\n",
        "        self.graph_info = graph_info\n",
        "        self.hamiltonians = hamiltonians\n",
        "        self.transform  = transform\n",
        "\n",
        "    def __len__(self):\n",
        "        return self.y.shape[0]\n",
        "\n",
        "    # Could also just define an x,y,z then pass these variables\n",
        "    # in the training functions over the loop for batch (actually think that way is easier to read)\n",
        "    def __getitem__(self, index):\n",
        "        sample = {'edge_index': self.edge_index[index,:,:], #self.graph_info[index,3]],\n",
        "                'x': self.x[index,:,:], #int(self.graph_info[index,2]),:],\n",
        "                'edge_attr': self.edge_attr[index,:], #self.graph_info[index,3]],\n",
        "                'hams': self.hamiltonians[index,:,:,:],\n",
        "                'y': self.y[index]  }\n",
        "\n",
        "        if self.transform is not None:\n",
        "            sample = self.transform(sample)\n",
        "\n",
        "        return sample"
      ],
      "id": "98e1abc0"
    },
    {
      "cell_type": "code",
      "source": [],
      "metadata": {
        "id": "r10_nF9YfJz-"
      },
      "id": "r10_nF9YfJz-",
      "execution_count": 81,
      "outputs": []
    },
    {
      "cell_type": "code",
      "execution_count": 82,
      "metadata": {
        "colab": {
          "base_uri": "https://localhost:8080/"
        },
        "id": "6595d28a",
        "outputId": "db6410fe-b732-49b0-e447-88d707e1d49f"
      },
      "outputs": [
        {
          "output_type": "stream",
          "name": "stderr",
          "text": [
            "100%|██████████| 12500/12500 [00:02<00:00, 6019.85it/s]"
          ]
        },
        {
          "output_type": "stream",
          "name": "stdout",
          "text": [
            "Number of training graphs: 10000\n",
            "Number of validation graphs: 1250\n",
            "Number of test graphs: 1250\n"
          ]
        },
        {
          "output_type": "stream",
          "name": "stderr",
          "text": [
            "\n"
          ]
        }
      ],
      "source": [
        "train_index   = int(N*0.8)\n",
        "val_index    = int(N*0.9)\n",
        "batch_size = 1\n",
        "\n",
        "# Create Datasets for Torch for the training and testing pahses\n",
        "dataset = []\n",
        "for i in tqdm(range(N)):\n",
        "    dataset.append(Data(edge_index=edge_indx_tensor[i,:,:int(graph_help[i,3])],\n",
        "                        x=x_data_proc[i,:int(graph_help[i,2]),:],\n",
        "                        edge_attr=edge_attr_matrix[i,:int(graph_help[i,3])],\n",
        "                        y=y_data_proc[i],\n",
        "                        pos = quantum_hamiltonians[i,:]))\n",
        "\n",
        "training_data = dataset[:train_index]\n",
        "val_data      = dataset[train_index:val_index]\n",
        "test_data     = dataset[val_index:]\n",
        "# Create data loaders\n",
        "train_quantum_dataloader = DataLoader(training_data,\n",
        "                              batch_size = batch_size,\n",
        "                              shuffle = True,\n",
        "                              num_workers = 0)\n",
        "\n",
        "val_quantum_dataloader  = DataLoader(val_data,\n",
        "                              batch_size = batch_size,\n",
        "                              shuffle = False,\n",
        "                              num_workers = 0)\n",
        "\n",
        "test_quantum_dataloader  = DataLoader(test_data,\n",
        "                              batch_size = batch_size,\n",
        "                              shuffle = False,\n",
        "                              num_workers = 0)\n",
        "\n",
        "print(f'Number of training graphs: {train_index}')\n",
        "print(f'Number of validation graphs: {val_index-train_index}')\n",
        "print(f'Number of test graphs: {N-val_index}')"
      ],
      "id": "6595d28a"
    },
    {
      "cell_type": "code",
      "execution_count": 83,
      "metadata": {
        "colab": {
          "base_uri": "https://localhost:8080/"
        },
        "id": "e13f2422",
        "outputId": "d7eab3bf-1220-46d3-cc51-5d83e1b265a0"
      },
      "outputs": [
        {
          "output_type": "stream",
          "name": "stdout",
          "text": [
            "Using cpu device\n"
          ]
        }
      ],
      "source": [
        "# Get cpu or gpu device for training.\n",
        "device = \"cuda\" if torch.cuda.is_available() else \"cpu\"\n",
        "print(f\"Using {device} device\")"
      ],
      "id": "e13f2422"
    },
    {
      "cell_type": "markdown",
      "metadata": {
        "id": "95f0cacf"
      },
      "source": [
        "# Quantum Graph Neural Network (QGNN)"
      ],
      "id": "95f0cacf"
    },
    {
      "cell_type": "code",
      "execution_count": 84,
      "metadata": {
        "id": "717d36a7"
      },
      "outputs": [],
      "source": [
        "def get_distance(tuple1,tuple2):\n",
        "    return np.sqrt((tuple1[0]-tuple2[0])**2+(tuple1[1]-tuple2[1])**2)"
      ],
      "id": "717d36a7"
    },
    {
      "cell_type": "markdown",
      "metadata": {
        "id": "dd121397"
      },
      "source": [
        "Plot of chosen jets for clustering"
      ],
      "id": "dd121397"
    },
    {
      "cell_type": "code",
      "execution_count": 85,
      "metadata": {
        "colab": {
          "base_uri": "https://localhost:8080/",
          "height": 350
        },
        "id": "0f8139ef",
        "outputId": "149fceba-f99c-4a19-d95c-e80fb9714c94"
      },
      "outputs": [
        {
          "output_type": "execute_result",
          "data": {
            "text/plain": [
              "<matplotlib.legend.Legend at 0x7b65ac866a10>"
            ]
          },
          "metadata": {},
          "execution_count": 85
        },
        {
          "output_type": "display_data",
          "data": {
            "text/plain": [
              "<Figure size 400x300 with 1 Axes>"
            ],
            "image/png": "[encoded data removed]"
          },
          "metadata": {}
        }
      ],
      "source": [
        "i=0\n",
        "j=1\n",
        "M = nodes_per_graph\n",
        "fig = plt.figure(figsize=(4,3))\n",
        "plt.scatter(x_data_proc[i,:,1],x_data_proc[i,:,2],c='r',s=10,label='Class '+str(y_data_proc[i].item()) ) #%(2*np.pi)\n",
        "plt.scatter(x_data_proc[j,:,1],x_data_proc[j,:,2],c='b',s=10,label='Class '+str(y_data_proc[j].item()) ) #%(2*np.pi)\n",
        "plt.title('Jet Cluster')\n",
        "plt.xlabel('Rapidity')\n",
        "plt.ylabel('Azimuthal Angle')\n",
        "plt.legend()"
      ],
      "id": "0f8139ef"
    },
    {
      "cell_type": "code",
      "execution_count": 86,
      "metadata": {
        "id": "fe79a33d"
      },
      "outputs": [],
      "source": [
        "i = 0\n",
        "pos = {j: (x_data_proc[i,j,1]%(2*np.pi), x_data_proc[i,j,2]%(2*np.pi)) for j in range(M)}\n",
        "make_jet_edges = [ (i,j) for i in pos for j in pos if i<j ]"
      ],
      "id": "fe79a33d"
    },
    {
      "cell_type": "code",
      "execution_count": 87,
      "metadata": {
        "id": "85bf4c82"
      },
      "outputs": [],
      "source": [
        "# number of qubits\n",
        "qubit_number = nodes_per_graph # M*2\n",
        "qubits = range(qubit_number)"
      ],
      "id": "85bf4c82"
    },
    {
      "cell_type": "code",
      "execution_count": 88,
      "metadata": {
        "colab": {
          "base_uri": "https://localhost:8080/"
        },
        "id": "ccf80b3b-7967-49cf-ac6a-4501d53e5135",
        "outputId": "55d05199-84c9-44ff-c3b4-666a6beee086"
      },
      "outputs": [
        {
          "output_type": "stream",
          "name": "stdout",
          "text": [
            "3\n"
          ]
        }
      ],
      "source": [
        "print(qubit_number)"
      ],
      "id": "ccf80b3b-7967-49cf-ac6a-4501d53e5135"
    },
    {
      "cell_type": "code",
      "execution_count": 89,
      "metadata": {
        "colab": {
          "base_uri": "https://localhost:8080/",
          "height": 406
        },
        "id": "ab62febd",
        "outputId": "82524de9-a173-45d5-b331-314b001b0e81"
      },
      "outputs": [
        {
          "output_type": "display_data",
          "data": {
            "text/plain": [
              "<Figure size 640x480 with 1 Axes>"
            ],
            "image/png": "[encoded data removed]"
          },
          "metadata": {}
        }
      ],
      "source": [
        "ising_graph = nx.DiGraph()\n",
        "ising_graph.add_nodes_from(pos)\n",
        "ising_graph.add_edges_from(make_jet_edges)\n",
        "nx.draw_networkx(ising_graph, pos, node_color='red', edgelist=make_jet_edges)"
      ],
      "id": "ab62febd"
    },
    {
      "cell_type": "code",
      "execution_count": 90,
      "metadata": {
        "id": "600a17b9"
      },
      "outputs": [],
      "source": [
        "term_dictionary = {0: [np.identity(2),np.identity(2)], 1: [qml.matrix(qml.PauliZ)(0), qml.matrix(qml.PauliZ)(0)]}"
      ],
      "id": "600a17b9"
    },
    {
      "cell_type": "code",
      "execution_count": 91,
      "metadata": {
        "id": "15bce22e-1a91-4c97-ba45-17c18bab6c47"
      },
      "outputs": [],
      "source": [
        "graph = dataset[0]"
      ],
      "id": "15bce22e-1a91-4c97-ba45-17c18bab6c47"
    },
    {
      "cell_type": "code",
      "execution_count": 92,
      "metadata": {
        "colab": {
          "base_uri": "https://localhost:8080/"
        },
        "id": "24aaa1d0",
        "outputId": "4bb52fd7-7782-44a8-c6cf-dd9c24223882"
      },
      "outputs": [
        {
          "output_type": "execute_result",
          "data": {
            "text/plain": [
              "torch.Size([2, 6])"
            ]
          },
          "metadata": {},
          "execution_count": 92
        }
      ],
      "source": [
        "graph.edge_index.shape"
      ],
      "id": "24aaa1d0"
    },
    {
      "cell_type": "code",
      "execution_count": 93,
      "metadata": {
        "colab": {
          "base_uri": "https://localhost:8080/"
        },
        "id": "e11c2345",
        "outputId": "f451ffb5-fb64-48e5-8b27-fb74708ecc3c"
      },
      "outputs": [
        {
          "output_type": "execute_result",
          "data": {
            "text/plain": [
              "torch.Size([2, 6])"
            ]
          },
          "metadata": {},
          "execution_count": 93
        }
      ],
      "source": [
        "graph.edge_index.shape"
      ],
      "id": "e11c2345"
    },
    {
      "cell_type": "code",
      "execution_count": 94,
      "metadata": {
        "id": "8ba8b739"
      },
      "outputs": [],
      "source": [
        "def create_hamiltonian_matrix_interaction(graph,\n",
        "                              term_dictionary =  {0: [np.identity(2),np.identity(2)], 1: [qml.matrix(qml.PauliZ)(0), qml.matrix(qml.PauliZ)(0)]}):\n",
        "    # n_qubits == number of nodes in graph\n",
        "    # graph == Data frame\n",
        "    # weights == edge_attr\n",
        "    n_qubits = graph.x.shape[0]\n",
        "    full_matrix = np.zeros((2 ** n_qubits, 2 ** n_qubits))\n",
        "    # Creates the interaction component of the Hamiltonian\n",
        "    weights = graph.edge_attr\n",
        "    fraction = 1./4.\n",
        "    number_of_terms = len(term_dictionary)\n",
        "    for term in range(number_of_terms):\n",
        "        for i, edge in enumerate(graph.edge_index.T):\n",
        "            interaction_term = 1\n",
        "            for qubit in range(n_qubits):\n",
        "                if qubit in edge:\n",
        "                    if qubit==edge[0]:\n",
        "                        interaction_term = np.kron(interaction_term, term_dictionary[term][0] )\n",
        "                    elif qubit==edge[1]:\n",
        "                        interaction_term = np.kron(interaction_term, term_dictionary[term][1] )\n",
        "                else:\n",
        "                    interaction_term = np.kron(interaction_term, np.identity(2) )\n",
        "\n",
        "        if np.all(term_dictionary[term][0]==qml.matrix(qml.PauliZ)(0)):\n",
        "            full_matrix += -fraction*weights[i].numpy()*interaction_term\n",
        "        else:\n",
        "            full_matrix +=  fraction*weights[i].numpy()*interaction_term\n",
        "    return full_matrix\n",
        "\n",
        "def create_hamiltonian_matrix_transverse(graph):\n",
        "    n_qubits = graph.x.shape[0]\n",
        "    full_matrix = np.zeros((2 ** n_qubits, 2 ** n_qubits))\n",
        "    # Creates the bias components of the matrix\n",
        "    for i in range(n_qubits):\n",
        "        x_term = 1\n",
        "        for j in range(n_qubits):\n",
        "            if j==i:\n",
        "                x_term = np.kron(x_term, qml.matrix(qml.PauliX)(0))\n",
        "            else:\n",
        "                x_term = np.kron(x_term, np.identity(2) )\n",
        "        full_matrix += x_term\n",
        "    return full_matrix"
      ],
      "id": "8ba8b739"
    },
    {
      "cell_type": "code",
      "execution_count": 95,
      "metadata": {
        "colab": {
          "base_uri": "https://localhost:8080/",
          "height": 408
        },
        "id": "fbda307b",
        "outputId": "3fb8ca2d-94bd-45f2-ebf3-fb781d07c105"
      },
      "outputs": [
        {
          "output_type": "display_data",
          "data": {
            "text/plain": [
              "<Figure size 800x400 with 2 Axes>"
            ],
            "image/png": "[encoded data removed]"
          },
          "metadata": {}
        }
      ],
      "source": [
        "# Prints a visual representation of the Hamiltonian matrix\n",
        "ham_matrix = create_hamiltonian_matrix_interaction(graph = graph)\n",
        "plt.figure(figsize=(8,4))\n",
        "plt.imshow(ham_matrix, cmap=\"RdBu\",vmin=-np.max(ham_matrix),vmax=np.max(ham_matrix))\n",
        "plt.title('$H_C$',fontsize=25)\n",
        "plt.xticks(ticks = [i for i in range(2**qubit_number)], labels =  [i+1 for i in range(2**qubit_number)], fontsize=12)\n",
        "plt.yticks(ticks = [i for i in range(2**qubit_number)], labels =  [i+1 for i in range(2**qubit_number)], fontsize =12)\n",
        "cbar = plt.colorbar()\n",
        "# cbar.set_label(label='',size=25)\n",
        "cbar.ax.tick_params(labelsize=12)\n",
        "plt.savefig(plot_path+'hc.png',bbox_inches='tight')"
      ],
      "id": "fbda307b"
    },
    {
      "cell_type": "code",
      "execution_count": 96,
      "metadata": {
        "colab": {
          "base_uri": "https://localhost:8080/",
          "height": 409
        },
        "id": "0446a619-b293-4597-82e0-41cdfc98c8f2",
        "outputId": "40831346-762f-4076-b5e9-22109eeca628"
      },
      "outputs": [
        {
          "output_type": "display_data",
          "data": {
            "text/plain": [
              "<Figure size 800x400 with 2 Axes>"
            ],
            "image/png": "[encoded data removed]"
          },
          "metadata": {}
        }
      ],
      "source": [
        "# Prints a visual representation of the Hamiltonian matrix\n",
        "ham_matrix = create_hamiltonian_matrix_transverse(graph = graph)\n",
        "plt.figure(figsize=(8,4))\n",
        "plt.imshow(ham_matrix, cmap=\"RdBu\",vmin=-np.max(ham_matrix),vmax=np.max(ham_matrix))\n",
        "plt.title('$H_T$',fontsize=25)\n",
        "plt.xticks(ticks = [i for i in range(2**qubit_number)], labels =  [i+1 for i in range(2**qubit_number)], fontsize=12)\n",
        "plt.yticks(ticks = [i for i in range(2**qubit_number)], labels =  [i+1 for i in range(2**qubit_number)], fontsize =12)\n",
        "cbar = plt.colorbar()\n",
        "# cbar.set_label(label='',size=25)\n",
        "cbar.ax.tick_params(labelsize=12)\n",
        "plt.savefig(plot_path+'ht.png',bbox_inches='tight')"
      ],
      "id": "0446a619-b293-4597-82e0-41cdfc98c8f2"
    },
    {
      "cell_type": "markdown",
      "metadata": {
        "id": "dc50607f"
      },
      "source": [
        "# Quantum Graph Neural Network (QGNN)"
      ],
      "id": "dc50607f"
    },
    {
      "cell_type": "code",
      "execution_count": 97,
      "metadata": {
        "id": "71d3a02a"
      },
      "outputs": [],
      "source": [
        "reg1 = copy.copy([i for i in range(nodes_per_graph) ])  # load original graph"
      ],
      "id": "71d3a02a"
    },
    {
      "cell_type": "code",
      "execution_count": 98,
      "metadata": {
        "colab": {
          "base_uri": "https://localhost:8080/"
        },
        "id": "784cf491-3af4-461c-ac64-4a74aabb77de",
        "outputId": "1bebced1-fe72-4f5f-9268-86c5bb7071bd"
      },
      "outputs": [
        {
          "output_type": "execute_result",
          "data": {
            "text/plain": [
              "3"
            ]
          },
          "metadata": {},
          "execution_count": 98
        }
      ],
      "source": [
        "qubit_number"
      ],
      "id": "784cf491-3af4-461c-ac64-4a74aabb77de"
    },
    {
      "cell_type": "markdown",
      "metadata": {
        "id": "4l3Gg6iSKyBJ"
      },
      "source": [
        "## QGNN Layers"
      ],
      "id": "4l3Gg6iSKyBJ"
    },
    {
      "cell_type": "code",
      "execution_count": 99,
      "metadata": {
        "id": "kkMf05NdKwin"
      },
      "outputs": [],
      "source": [
        "def state_evolve(hamiltonian, qubits, eta, q):\n",
        "    U = torch.linalg.matrix_exp(-1j * eta * hamiltonian).cfloat()\n",
        "    U = q@U@q.T.conj()\n",
        "    qml.QubitUnitary(U, wires=qubits)\n",
        "\n",
        "def qgcnn(inputs,weights):\n",
        "    # ham_matrix1, ham_matrix2, tham_matrix1, tham_matrix2 = form_hamiltonians(graph1 = graphs[0], graph2 = graphs[1])\n",
        "    # Prepares the low energy state in the two registers\n",
        "    embedding_features = int(2**qubit_number)\n",
        "    low_energy_state = inputs[1,:embedding_features]\n",
        "    constant = torch.tensor([1.]).cfloat().to(device)\n",
        "    qml.QubitStateVector(torch.kron(low_energy_state,constant), wires=reg1)\n",
        "    # Evolves the first qubit register with the time-evolution circuit to\n",
        "    # prepare a piece of quantum data\n",
        "    inputs = inputs[0,:].reshape(batch_size,2,embedding_features,embedding_features)\n",
        "    if batch_size==1:\n",
        "        inputs = inputs.reshape(2,embedding_features,embedding_features)\n",
        "        coeffs = weights[:,:int(n_layers*2)].reshape(n_layers,2)\n",
        "        As = weights[:,int(n_layers*2):].reshape(n_layers,2,embedding_features,embedding_features)\n",
        "\n",
        "    for j in range(coeffs.shape[0]):\n",
        "      A = As[j,0,:,:].cfloat() + 1j*As[j,1,:,:].cfloat()\n",
        "      I = torch.eye(A.shape[0],dtype = torch.cfloat).to(device)\n",
        "      A = A + A.T.conj()\n",
        "      q = (A - 1j*I)@torch.linalg.inv(A + 1j*I)\n",
        "      if batch_size==1:\n",
        "          state_evolve(inputs[0,:,:],  reg1, coeffs[j,0], q )\n",
        "          state_evolve(inputs[1,:,:],  reg1, coeffs[j,1], q )\n",
        "      else:\n",
        "          state_evolve(inputs[:,0,:,:],  reg1, coeffs[j,0], q )\n",
        "          state_evolve(inputs[:,1,:,:],  reg1, coeffs[j,1], q )\n",
        "    return [qml.state()]\n",
        "\n",
        "# Define a custom complex activation function (nn.Module)\n",
        "class complex_activation(nn.Module):\n",
        "    def forward(self, x):\n",
        "        return nn.ReLU()(x.real) + 1.j * nn.ReLU()(x.imag)\n",
        "\n",
        "qgcnn_dev = qml.device('default.qubit', wires=qubit_number)#, shots=shots)\n",
        "# Defines the new QNode\n",
        "qgcnn_qnode = qml.QNode(qgcnn,\n",
        "                        device=qgcnn_dev,\n",
        "                        interface = 'torch', #,#interface='torch', #interface = 'autograd'\n",
        "                        diff_method='backprop')\n",
        "\n",
        "class eigs_fn_torch(nn.Module):\n",
        "    def forward(self, inputs, qstates_comp_basis):\n",
        "        # Compute rotation matrices and eigenvalues\n",
        "        qstates_comp_basis = qstates_comp_basis.flatten().cfloat()\n",
        "        qstates_density_matrix =  qstates_comp_basis@qstates_comp_basis.T\n",
        "        q,r = torch.linalg.qr(qstates_density_matrix)\n",
        "        coupling_ham = (inputs[0].reshape(2,int(2**nodes_per_graph),int(2**nodes_per_graph)) )[0,:,:].cfloat()\n",
        "        rotUC1 = q @ torch.linalg.matrix_exp( -1j * coupling_ham )\n",
        "        UC1eigs = torch.linalg.eigvals(rotUC1)\n",
        "        return qstates_comp_basis.reshape(1,qstates_comp_basis.shape[0]) #UC1eigs.reshape(1,UC1eigs.shape[0])\n",
        "\n",
        "class product_state(nn.Module):\n",
        "    def forward(self, qstates_comp_basis):\n",
        "        qstates_comp_basis = qstates_comp_basis.flatten().cfloat()\n",
        "        return qstates_comp_basis.reshape(1,qstates_comp_basis.shape[0])\n",
        "\n",
        "class construct_low_energy_state(nn.Module):\n",
        "    def forward(self, encoded_state):\n",
        "        term = torch.tensor([1.]).cfloat().to(device)\n",
        "        for i in range(encoded_state.shape[0]):\n",
        "            term = torch.kron(encoded_state[i,:],term)\n",
        "        normalize_factor = torch.sqrt(torch.abs(torch.conj(term)@term))\n",
        "        term = term/normalize_factor\n",
        "        return term"
      ],
      "id": "kkMf05NdKwin"
    },
    {
      "cell_type": "markdown",
      "metadata": {
        "id": "B4NQSo69K2Dv"
      },
      "source": [
        "## QGNN Model"
      ],
      "id": "B4NQSo69K2Dv"
    },
    {
      "cell_type": "code",
      "execution_count": 100,
      "metadata": {
        "id": "f61fbcac"
      },
      "outputs": [],
      "source": [
        "class quantum_iso_model(torch.nn.Module):\n",
        "    def __init__(self, weight_shapes):\n",
        "        super().__init__()\n",
        "        # self.weights = torch.nn.Parameter(torch.randn(n_layers, gamma_and_eta))\n",
        "        # self.transform = torch.nn.Identity()\n",
        "        self.encoder = nn.Sequential( nn.Linear(x_data_proc.shape[2], 16, dtype=torch.cfloat),\n",
        "                                      complex_activation(),\n",
        "                                      nn.Linear(16, 16, dtype=torch.cfloat),\n",
        "                                      complex_activation(),\n",
        "                                      nn.Linear(16, 2, dtype=torch.cfloat) )\n",
        "\n",
        "        self.qlayer = qml.qnn.TorchLayer(qgcnn_qnode, weight_shapes)\n",
        "        self.eigs   = eigs_fn_torch()\n",
        "        self.product_state = product_state()\n",
        "        self.state  = construct_low_energy_state()\n",
        "\n",
        "        self.decoder = nn.Sequential( nn.Linear(2**qubit_number, 5*2**qubit_number, dtype=torch.cfloat),\n",
        "                                      complex_activation(),\n",
        "                                      nn.Linear(5*2**qubit_number, 4*2**qubit_number, dtype=torch.cfloat),\n",
        "                                      complex_activation(),\n",
        "                                      nn.Linear(4*2**qubit_number, 2, dtype=torch.cfloat) )\n",
        "\n",
        "    def forward(self, inputs, features):\n",
        "        embedding = self.encoder(features)\n",
        "        initial_state = self.state(embedding)\n",
        "        initial_state = nn.functional.pad(initial_state, (0,inputs.shape[1]-initial_state.shape[0]), mode='constant', value=0)\n",
        "        x = self.qlayer(torch.vstack([inputs,initial_state]))\n",
        "        x = self.product_state(x)\n",
        "        h = self.decoder(x)\n",
        "        return (h*h.conj()).real"
      ],
      "id": "f61fbcac"
    },
    {
      "cell_type": "markdown",
      "metadata": {
        "id": "zXsuznrXJhD0"
      },
      "source": [
        "## QGNN Training Function"
      ],
      "id": "zXsuznrXJhD0"
    },
    {
      "cell_type": "code",
      "execution_count": 101,
      "metadata": {
        "id": "OHLv6mPqJe9g"
      },
      "outputs": [],
      "source": [
        "def quantum_training(train_dataloader,\n",
        "                     val_dataloader,\n",
        "                     epochs,\n",
        "                     loss_fn,\n",
        "                     model,\n",
        "                     optimizer):\n",
        "\n",
        "    size = len(train_dataloader)\n",
        "    history = { 'train_loss':[],'train_acc':[],'val_loss':[],'val_acc':[]}\n",
        "\n",
        "    best_train_loss = torch.inf\n",
        "    best_val_loss = torch.inf\n",
        "    best_model = None\n",
        "    best_train_acc = 0.\n",
        "    best_val_acc = 0.\n",
        "    best_auc = 0.\n",
        "    best_epoch = 0\n",
        "    count = 0\n",
        "    current_val_loss = 0\n",
        "    size_val = len(val_dataloader)\n",
        "    first_idx = torch.arange(0,size_val)\n",
        "    start = time()\n",
        "    for epoch in tqdm(range(epochs)):\n",
        "        train_loss, train_acc, _ , _ = train(model, optimizer, epoch, train_dataloader, backprop=True)\n",
        "        val_loss, val_acc, val_label, val_pred = train(model, optimizer, epoch, val_dataloader, backprop=False)\n",
        "\n",
        "        y_score = val_pred[(first_idx,val_label.astype('int32'))]\n",
        "        auc_score = roc_auc_score(val_label, y_score)\n",
        "\n",
        "        history['train_loss'].append(train_loss)\n",
        "        history['train_acc'].append(train_acc)\n",
        "        history['val_loss'].append(val_loss)\n",
        "        history['val_acc'].append(val_acc)\n",
        "        print('\\n')\n",
        "\n",
        "        if val_loss <= best_val_loss:\n",
        "          best_train_loss = train_loss\n",
        "          best_val_loss = val_loss\n",
        "          best_train_acc = train_acc\n",
        "          best_val_acc = val_acc\n",
        "\n",
        "        if best_auc <= auc_score and epoch>=15:\n",
        "          # best_model = copy.deepcopy(model)\n",
        "          # best_model_wts = copy.deepcopy(model.state_dict())\n",
        "          best_auc = auc_score\n",
        "          print(f'Rerun and stop at epoch {epoch} to attain the best classifier.')\n",
        "\n",
        "          # best_model = copy.deepcopy(model)\n",
        "          # best_model_wts = copy.deepcopy(model.state_dict())\n",
        "          # if current_val_loss>best_val_loss:\n",
        "          #   count=0\n",
        "          # if count==0:\n",
        "          #   best_auc = auc_score\n",
        "          #   current_val_loss = best_val_loss\n",
        "          #   count+=1\n",
        "\n",
        "        if epoch % 1 == 0 or epoch==epochs-1: #args.test_interval == 0:\n",
        "          print(\"Epoch: %d |  Best Train Loss: %.8f | Best Val Loss: %.8f | Best Train Acc: %.8f | Best Val Acc: %.8f\" % (epoch, best_train_loss, best_val_loss, best_train_acc, best_val_acc))\n",
        "          print('Epoch: %d |  VAL AUC: %.8f \\n' % (epoch, auc_score))\n",
        "\n",
        "    end = time()\n",
        "    print(f'Training Complete. Total Time (s): {end-start}')\n",
        "    return {'model': best_model, 'history': history}\n",
        "\n",
        "\n",
        "def train(model, optimizer, epoch, loader, backprop=True):\n",
        "    size = len(loader)\n",
        "    num_correct = 0\n",
        "    running_loss = 0.\n",
        "    loss_list = []\n",
        "    if backprop:\n",
        "        model.train()\n",
        "    else:\n",
        "        model.eval()\n",
        "    all_labels = np.zeros((size,))\n",
        "    all_labels_pred = np.zeros((size,2))\n",
        "    for batch_idx, data in enumerate(loader):\n",
        "        if batch_idx==0:\n",
        "            node_size, n_feat = data[0].x.size()\n",
        "        batch_size = data.x.shape[0]//node_size\n",
        "        inputs = data.pos.reshape(batch_size,2*int(2**node_size)*int(2**node_size)).to(device)\n",
        "        initial_node_features = data.x.cfloat().to(device)\n",
        "        labels = data.y.long().reshape(batch_size,).to(device)\n",
        "\n",
        "        labels_pred = model(inputs,initial_node_features)\n",
        "        loss = loss_fn(labels_pred,labels)\n",
        "        loss_list.append(loss.item())\n",
        "        optimizer.zero_grad()\n",
        "        if backprop:\n",
        "            loss.backward()\n",
        "            optimizer.step()\n",
        "        else:\n",
        "          all_labels[batch_idx] = labels\n",
        "          all_labels_pred[batch_idx] = labels_pred.detach().cpu()\n",
        "        num_correct += (labels_pred.argmax(dim=1)==labels).sum().int()\n",
        "        running_loss += loss.item()*batch_size\n",
        "\n",
        "    accuracy = num_correct / size\n",
        "    running_loss = running_loss/size\n",
        "\n",
        "    return running_loss, accuracy, all_labels, all_labels_pred"
      ],
      "id": "OHLv6mPqJe9g"
    },
    {
      "cell_type": "code",
      "execution_count": 102,
      "metadata": {
        "id": "5b58fda2-c65c-480c-950a-a7649d2b0a0c"
      },
      "outputs": [],
      "source": [
        "seed = 3\n",
        "torch.manual_seed(seed)\n",
        "epochs = 19\n",
        "embedding_size = 2**qubit_number\n",
        "n_layers = 6\n",
        "matrix_params =  n_layers*embedding_size*embedding_size*2\n",
        "weight_shapes = {\"weights\": (1, n_layers*2 + matrix_params)}\n",
        "model = quantum_iso_model(weight_shapes).to(device)\n",
        "lr = 1e-3\n",
        "optimizer = torch.optim.Adam(model.parameters(), lr=lr)\n",
        "loss_fn = torch.nn.CrossEntropyLoss()\n",
        "# print(qml.draw(qgcnn)(train_quantum_hamiltonians[0,:,:,:].flatten().cpu(), model.weights.cpu()))"
      ],
      "id": "5b58fda2-c65c-480c-950a-a7649d2b0a0c"
    },
    {
      "cell_type": "code",
      "execution_count": 103,
      "metadata": {
        "id": "d3b9bb0a-2232-4735-a86b-48f8f53168b8"
      },
      "outputs": [],
      "source": [
        "count = 0\n",
        "for i,param in enumerate(model.parameters()):\n",
        "    if param.dtype==torch.complex64:\n",
        "        count+=torch.view_as_real(param).flatten().shape[0]\n",
        "    else:\n",
        "        count+=param.flatten().shape[0]"
      ],
      "id": "d3b9bb0a-2232-4735-a86b-48f8f53168b8"
    },
    {
      "cell_type": "code",
      "execution_count": 104,
      "metadata": {
        "colab": {
          "base_uri": "https://localhost:8080/"
        },
        "id": "3e0886dd-ab7b-46dc-9387-cd9223b5915d",
        "outputId": "f0948bb8-08e0-41de-89dc-cc78c0e41aa4"
      },
      "outputs": [
        {
          "output_type": "stream",
          "name": "stdout",
          "text": [
            "5156\n"
          ]
        }
      ],
      "source": [
        "print(count)"
      ],
      "id": "3e0886dd-ab7b-46dc-9387-cd9223b5915d"
    },
    {
      "cell_type": "code",
      "execution_count": 105,
      "metadata": {
        "colab": {
          "base_uri": "https://localhost:8080/"
        },
        "id": "472db952-3dcb-4d43-90f7-b016739c9568",
        "outputId": "98624726-8549-4890-f811-a5300f88d238"
      },
      "outputs": [
        {
          "output_type": "execute_result",
          "data": {
            "text/plain": [
              "10000"
            ]
          },
          "metadata": {},
          "execution_count": 105
        }
      ],
      "source": [
        "len(train_quantum_dataloader)"
      ],
      "id": "472db952-3dcb-4d43-90f7-b016739c9568"
    },
    {
      "cell_type": "code",
      "execution_count": 106,
      "metadata": {
        "colab": {
          "base_uri": "https://localhost:8080/"
        },
        "id": "723e8a87-e016-4f81-9786-1c8d913a6166",
        "outputId": "fc764780-b873-4ff8-db16-22c4eb4e3029",
        "scrolled": true
      },
      "outputs": [
        {
          "output_type": "stream",
          "name": "stderr",
          "text": [
            "  5%|▌         | 1/19 [06:54<2:04:16, 414.26s/it]"
          ]
        },
        {
          "output_type": "stream",
          "name": "stdout",
          "text": [
            "\n",
            "\n",
            "Epoch: 0 |  Best Train Loss: 0.58901086 | Best Val Loss: 0.56039350 | Best Train Acc: 0.69310000 | Best Val Acc: 0.72960000\n",
            "Epoch: 0 |  VAL AUC: 0.36363648 \n",
            "\n"
          ]
        },
        {
          "output_type": "stream",
          "name": "stderr",
          "text": [
            "\r 11%|█         | 2/19 [13:07<1:50:28, 389.93s/it]"
          ]
        },
        {
          "output_type": "stream",
          "name": "stdout",
          "text": [
            "\n",
            "\n",
            "Epoch: 1 |  Best Train Loss: 0.55322487 | Best Val Loss: 0.55843409 | Best Train Acc: 0.72900000 | Best Val Acc: 0.73840000\n",
            "Epoch: 1 |  VAL AUC: 0.41902931 \n",
            "\n"
          ]
        },
        {
          "output_type": "stream",
          "name": "stderr",
          "text": [
            "\r 16%|█▌        | 3/19 [19:30<1:43:07, 386.73s/it]"
          ]
        },
        {
          "output_type": "stream",
          "name": "stdout",
          "text": [
            "\n",
            "\n",
            "Epoch: 2 |  Best Train Loss: 0.55322487 | Best Val Loss: 0.55843409 | Best Train Acc: 0.72900000 | Best Val Acc: 0.73840000\n",
            "Epoch: 2 |  VAL AUC: 0.27994588 \n",
            "\n"
          ]
        },
        {
          "output_type": "stream",
          "name": "stderr",
          "text": [
            "\r 21%|██        | 4/19 [25:41<1:35:10, 380.70s/it]"
          ]
        },
        {
          "output_type": "stream",
          "name": "stdout",
          "text": [
            "\n",
            "\n",
            "Epoch: 3 |  Best Train Loss: 0.54174856 | Best Val Loss: 0.54100190 | Best Train Acc: 0.73170000 | Best Val Acc: 0.73440000\n",
            "Epoch: 3 |  VAL AUC: 0.69024429 \n",
            "\n"
          ]
        },
        {
          "output_type": "stream",
          "name": "stderr",
          "text": [
            "\r 26%|██▋       | 5/19 [31:51<1:27:55, 376.82s/it]"
          ]
        },
        {
          "output_type": "stream",
          "name": "stdout",
          "text": [
            "\n",
            "\n",
            "Epoch: 4 |  Best Train Loss: 0.54075519 | Best Val Loss: 0.53727786 | Best Train Acc: 0.73490000 | Best Val Acc: 0.74240000\n",
            "Epoch: 4 |  VAL AUC: 0.64354771 \n",
            "\n"
          ]
        },
        {
          "output_type": "stream",
          "name": "stderr",
          "text": [
            "\r 32%|███▏      | 6/19 [38:06<1:21:29, 376.14s/it]"
          ]
        },
        {
          "output_type": "stream",
          "name": "stdout",
          "text": [
            "\n",
            "\n",
            "Epoch: 5 |  Best Train Loss: 0.54075519 | Best Val Loss: 0.53727786 | Best Train Acc: 0.73490000 | Best Val Acc: 0.74240000\n",
            "Epoch: 5 |  VAL AUC: 0.51794186 \n",
            "\n"
          ]
        },
        {
          "output_type": "stream",
          "name": "stderr",
          "text": [
            "\r 37%|███▋      | 7/19 [44:17<1:14:55, 374.60s/it]"
          ]
        },
        {
          "output_type": "stream",
          "name": "stdout",
          "text": [
            "\n",
            "\n",
            "Epoch: 6 |  Best Train Loss: 0.54075519 | Best Val Loss: 0.53727786 | Best Train Acc: 0.73490000 | Best Val Acc: 0.74240000\n",
            "Epoch: 6 |  VAL AUC: 0.39065196 \n",
            "\n"
          ]
        },
        {
          "output_type": "stream",
          "name": "stderr",
          "text": [
            "\r 42%|████▏     | 8/19 [50:32<1:08:39, 374.50s/it]"
          ]
        },
        {
          "output_type": "stream",
          "name": "stdout",
          "text": [
            "\n",
            "\n",
            "Epoch: 7 |  Best Train Loss: 0.54075519 | Best Val Loss: 0.53727786 | Best Train Acc: 0.73490000 | Best Val Acc: 0.74240000\n",
            "Epoch: 7 |  VAL AUC: 0.44681878 \n",
            "\n"
          ]
        },
        {
          "output_type": "stream",
          "name": "stderr",
          "text": [
            "\r 47%|████▋     | 9/19 [56:46<1:02:24, 374.44s/it]"
          ]
        },
        {
          "output_type": "stream",
          "name": "stdout",
          "text": [
            "\n",
            "\n",
            "Epoch: 8 |  Best Train Loss: 0.53375832 | Best Val Loss: 0.53593582 | Best Train Acc: 0.74210000 | Best Val Acc: 0.73760000\n",
            "Epoch: 8 |  VAL AUC: 0.62841175 \n",
            "\n"
          ]
        },
        {
          "output_type": "stream",
          "name": "stderr",
          "text": [
            "\r 53%|█████▎    | 10/19 [1:03:01<56:11, 374.60s/it]"
          ]
        },
        {
          "output_type": "stream",
          "name": "stdout",
          "text": [
            "\n",
            "\n",
            "Epoch: 9 |  Best Train Loss: 0.53375832 | Best Val Loss: 0.53593582 | Best Train Acc: 0.74210000 | Best Val Acc: 0.73760000\n",
            "Epoch: 9 |  VAL AUC: 0.46686314 \n",
            "\n"
          ]
        },
        {
          "output_type": "stream",
          "name": "stderr",
          "text": [
            "\r 58%|█████▊    | 11/19 [1:09:17<50:01, 375.17s/it]"
          ]
        },
        {
          "output_type": "stream",
          "name": "stdout",
          "text": [
            "\n",
            "\n",
            "Epoch: 10 |  Best Train Loss: 0.53375832 | Best Val Loss: 0.53593582 | Best Train Acc: 0.74210000 | Best Val Acc: 0.73760000\n",
            "Epoch: 10 |  VAL AUC: 0.27834398 \n",
            "\n"
          ]
        },
        {
          "output_type": "stream",
          "name": "stderr",
          "text": [
            "\r 63%|██████▎   | 12/19 [1:15:32<43:45, 375.12s/it]"
          ]
        },
        {
          "output_type": "stream",
          "name": "stdout",
          "text": [
            "\n",
            "\n",
            "Epoch: 11 |  Best Train Loss: 0.53375832 | Best Val Loss: 0.53593582 | Best Train Acc: 0.74210000 | Best Val Acc: 0.73760000\n",
            "Epoch: 11 |  VAL AUC: 0.48091832 \n",
            "\n"
          ]
        },
        {
          "output_type": "stream",
          "name": "stderr",
          "text": [
            "\r 68%|██████▊   | 13/19 [1:21:52<37:39, 376.60s/it]"
          ]
        },
        {
          "output_type": "stream",
          "name": "stdout",
          "text": [
            "\n",
            "\n",
            "Epoch: 12 |  Best Train Loss: 0.53045752 | Best Val Loss: 0.53556453 | Best Train Acc: 0.74030000 | Best Val Acc: 0.73680000\n",
            "Epoch: 12 |  VAL AUC: 0.49389273 \n",
            "\n"
          ]
        },
        {
          "output_type": "stream",
          "name": "stderr",
          "text": [
            "\r 74%|███████▎  | 14/19 [1:28:08<31:21, 376.28s/it]"
          ]
        },
        {
          "output_type": "stream",
          "name": "stdout",
          "text": [
            "\n",
            "\n",
            "Epoch: 13 |  Best Train Loss: 0.53045752 | Best Val Loss: 0.53556453 | Best Train Acc: 0.74030000 | Best Val Acc: 0.73680000\n",
            "Epoch: 13 |  VAL AUC: 0.53434856 \n",
            "\n"
          ]
        },
        {
          "output_type": "stream",
          "name": "stderr",
          "text": [
            "\r 79%|███████▉  | 15/19 [1:34:21<25:00, 375.21s/it]"
          ]
        },
        {
          "output_type": "stream",
          "name": "stdout",
          "text": [
            "\n",
            "\n",
            "Epoch: 14 |  Best Train Loss: 0.53045752 | Best Val Loss: 0.53556453 | Best Train Acc: 0.74030000 | Best Val Acc: 0.73680000\n",
            "Epoch: 14 |  VAL AUC: 0.45573451 \n",
            "\n"
          ]
        },
        {
          "output_type": "stream",
          "name": "stderr",
          "text": [
            "\r 84%|████████▍ | 16/19 [1:40:35<18:45, 375.07s/it]"
          ]
        },
        {
          "output_type": "stream",
          "name": "stdout",
          "text": [
            "\n",
            "\n",
            "Rerun and stop at epoch 15 to attain the best classifier.\n",
            "Epoch: 15 |  Best Train Loss: 0.53045752 | Best Val Loss: 0.53556453 | Best Train Acc: 0.74030000 | Best Val Acc: 0.73680000\n",
            "Epoch: 15 |  VAL AUC: 0.63609782 \n",
            "\n"
          ]
        },
        {
          "output_type": "stream",
          "name": "stderr",
          "text": [
            "\r 89%|████████▉ | 17/19 [1:46:48<12:28, 374.23s/it]"
          ]
        },
        {
          "output_type": "stream",
          "name": "stdout",
          "text": [
            "\n",
            "\n",
            "Epoch: 16 |  Best Train Loss: 0.53045752 | Best Val Loss: 0.53556453 | Best Train Acc: 0.74030000 | Best Val Acc: 0.73680000\n",
            "Epoch: 16 |  VAL AUC: 0.46388780 \n",
            "\n"
          ]
        },
        {
          "output_type": "stream",
          "name": "stderr",
          "text": [
            "\r 95%|█████████▍| 18/19 [1:53:01<06:14, 374.06s/it]"
          ]
        },
        {
          "output_type": "stream",
          "name": "stdout",
          "text": [
            "\n",
            "\n",
            "Epoch: 17 |  Best Train Loss: 0.53045752 | Best Val Loss: 0.53556453 | Best Train Acc: 0.74030000 | Best Val Acc: 0.73680000\n",
            "Epoch: 17 |  VAL AUC: 0.51889427 \n",
            "\n"
          ]
        },
        {
          "output_type": "stream",
          "name": "stderr",
          "text": [
            "100%|██████████| 19/19 [1:59:13<00:00, 376.50s/it]"
          ]
        },
        {
          "output_type": "stream",
          "name": "stdout",
          "text": [
            "\n",
            "\n",
            "Rerun and stop at epoch 18 to attain the best classifier.\n",
            "Epoch: 18 |  Best Train Loss: 0.53045752 | Best Val Loss: 0.53556453 | Best Train Acc: 0.74030000 | Best Val Acc: 0.73680000\n",
            "Epoch: 18 |  VAL AUC: 0.70724400 \n",
            "\n",
            "Training Complete. Total Time (s): 7153.585129022598\n"
          ]
        },
        {
          "output_type": "stream",
          "name": "stderr",
          "text": [
            "\n"
          ]
        }
      ],
      "source": [
        "qgnn_model_and_history = quantum_training(train_quantum_dataloader,\n",
        "                             val_quantum_dataloader,\n",
        "                             epochs,\n",
        "                             loss_fn,\n",
        "                             model,\n",
        "                             optimizer)"
      ],
      "id": "723e8a87-e016-4f81-9786-1c8d913a6166"
    },
    {
      "cell_type": "markdown",
      "metadata": {
        "id": "44932143-020e-447b-81e8-038ba6e196bb"
      },
      "source": [
        "# Model Weights and Training History"
      ],
      "id": "44932143-020e-447b-81e8-038ba6e196bb"
    },
    {
      "cell_type": "code",
      "execution_count": 107,
      "metadata": {
        "id": "346a1a63-9bc5-49e9-a6e4-ea495d491ae9"
      },
      "outputs": [],
      "source": [
        "train_acc = []\n",
        "for i,val in enumerate(qgnn_model_and_history['history']['train_acc']):\n",
        "    train_acc.append(val.cpu().detach().numpy())\n",
        "\n",
        "val_acc = []\n",
        "for i,val in enumerate(qgnn_model_and_history['history']['val_acc']):\n",
        "    val_acc.append(val.cpu().detach().numpy())"
      ],
      "id": "346a1a63-9bc5-49e9-a6e4-ea495d491ae9"
    },
    {
      "cell_type": "code",
      "execution_count": 108,
      "metadata": {
        "colab": {
          "base_uri": "https://localhost:8080/",
          "height": 567
        },
        "id": "0f94e7ae",
        "outputId": "8d9f0254-d7b2-49bc-fbf7-7f98a284155a"
      },
      "outputs": [
        {
          "output_type": "display_data",
          "data": {
            "text/plain": [
              "<Figure size 800x500 with 1 Axes>"
            ],
            "image/png": "[encoded data removed]"
          },
          "metadata": {}
        }
      ],
      "source": [
        "plt.figure(figsize=(8,5))\n",
        "plt.plot(qgnn_model_and_history['history']['train_loss'],c='b',label=f'Train Loss ({train_index} jets)')\n",
        "plt.plot(qgnn_model_and_history['history']['val_loss'],c='darkorange',label=f'Val Loss ({val_index-train_index} jets)')\n",
        "plt.plot(train_acc,c='cyan',label='Train Accuracy')\n",
        "plt.plot(val_acc,c='orangered',label='Val Accuracy')\n",
        "plt.title(f'QGNN\\n $|\\Theta| = {count}$,  $N_h={embedding_size}$,  $P={n_layers}$', fontsize=25)\n",
        "plt.xlabel('Epoch',fontsize=25)\n",
        "plt.ylabel('Loss/Accuracy',fontsize=25)\n",
        "plt.legend(fontsize = 13, loc = 'lower right')\n",
        "plt.xticks(fontsize=13,ticks=[i for i in range(0,epochs,2)])\n",
        "plt.yticks(fontsize=14)\n",
        "plt.ylim([0.40,0.76])\n",
        "plt.savefig(plot_path+f'qgnn_training_{count}_{embedding_size}_{n_layers}_{seed}.png',bbox_inches='tight')"
      ],
      "id": "0f94e7ae"
    },
    {
      "cell_type": "code",
      "execution_count": 109,
      "metadata": {
        "id": "0718161a-8b6c-4679-b213-a221fd6b6dc6"
      },
      "outputs": [],
      "source": [
        "model.eval()\n",
        "with torch.no_grad():\n",
        "    size = len(test_quantum_dataloader)\n",
        "    num_correct = 0\n",
        "    labels_all = None\n",
        "    for i,data in enumerate(test_quantum_dataloader):\n",
        "        if i==0:\n",
        "            node_size, n_feat = data[0].x.size()\n",
        "        batch_size = data.x.shape[0]//node_size\n",
        "        inputs = data.pos.reshape(batch_size,2*int(2**node_size)*int(2**node_size)).to(device)\n",
        "        labels = data.y.long().reshape(batch_size,).to(device)\n",
        "\n",
        "        labels_pred = model(inputs,data.x.cfloat().to(device))\n",
        "        num_correct += (labels_pred.argmax(dim=1)==labels).sum().int()\n",
        "\n",
        "        if labels_all is not None:\n",
        "            labels_all = torch.cat([labels_all,labels],dim=0)\n",
        "            labels_pred_all = torch.cat([labels_pred_all,labels_pred],dim=0)\n",
        "        else:\n",
        "            labels_all = copy.deepcopy(labels)\n",
        "            labels_pred_all = copy.deepcopy(labels_pred)"
      ],
      "id": "0718161a-8b6c-4679-b213-a221fd6b6dc6"
    },
    {
      "cell_type": "code",
      "execution_count": 110,
      "metadata": {
        "id": "nU4Ac4XCvE4E"
      },
      "outputs": [],
      "source": [
        "labels_all = copy.deepcopy(labels_all.cpu())\n",
        "labels_pred_all = copy.deepcopy(labels_pred_all.cpu())"
      ],
      "id": "nU4Ac4XCvE4E"
    },
    {
      "cell_type": "code",
      "execution_count": 111,
      "metadata": {
        "id": "3d4da7b9-161e-4429-9bf4-ad111c6dea3f",
        "colab": {
          "base_uri": "https://localhost:8080/",
          "height": 365
        },
        "outputId": "b91fddb1-d2f4-4412-a4e0-0c1169c4cc68"
      },
      "outputs": [
        {
          "output_type": "display_data",
          "data": {
            "text/plain": [
              "<Figure size 400x300 with 2 Axes>"
            ],
            "image/png": "[encoded data removed]"
          },
          "metadata": {}
        },
        {
          "output_type": "stream",
          "name": "stdout",
          "text": [
            "Accuracy for QGNN:  tensor(0.7224)\n"
          ]
        }
      ],
      "source": [
        "from sklearn.metrics import confusion_matrix\n",
        "# Calculate the confusion matrix\n",
        "conf_matrix = confusion_matrix(y_true=labels_all, y_pred=labels_pred_all.argmax(dim=1))\n",
        "# Print the confusion matrix using Matplotlib\n",
        "fig, ax = plt.subplots(figsize=(4, 3))\n",
        "im = ax.imshow(conf_matrix, cmap=plt.cm.Blues, alpha=0.3)\n",
        "for i in range(conf_matrix.shape[0]):\n",
        "    for j in range(conf_matrix.shape[1]):\n",
        "        ax.text(x=j, y=i,s=conf_matrix[i, j], va='center', ha='center', size='xx-large')\n",
        "plt.xlabel('Pred', fontsize=18)\n",
        "plt.ylabel('True', fontsize=18)\n",
        "plt.title('Confusion Matrix for QGNN', fontsize=18)\n",
        "plt.xticks(ticks=[0,1],labels=['Gluon','Quark'])\n",
        "plt.yticks(ticks=[0,1],labels=['Gluon','Quark'])\n",
        "plt.colorbar(im)\n",
        "plt.show()\n",
        "\n",
        "size=labels_all.shape[0]\n",
        "num_correct = (labels_all==labels_pred_all.argmax(dim=1)).sum().int()\n",
        "print('Accuracy for QGNN: ',num_correct/size)"
      ],
      "id": "3d4da7b9-161e-4429-9bf4-ad111c6dea3f"
    },
    {
      "cell_type": "code",
      "execution_count": 112,
      "metadata": {
        "id": "1fca400d-cd2f-49b4-84c9-fa1f06b8b5f0"
      },
      "outputs": [],
      "source": [
        "from sklearn.metrics import roc_curve, roc_auc_score\n",
        "first_idx = torch.arange(0,labels_pred_all.shape[0])\n",
        "y_score_qgnn = labels_pred_all[(first_idx,labels_all.int())]\n",
        "fpr_qgnn, tpr_qgnn, thresholds = roc_curve(labels_all, y_score_qgnn)\n",
        "auc_score_qgnn = roc_auc_score(labels_all, y_score_qgnn)"
      ],
      "id": "1fca400d-cd2f-49b4-84c9-fa1f06b8b5f0"
    },
    {
      "cell_type": "code",
      "source": [
        "import csv\n",
        "\n",
        "# Save first 4 variables to CSV (train_loss, val_loss, train_acc, val_acc)\n",
        "with open('qgnn_model_history.csv', 'w', newline='') as file1:\n",
        "    writer = csv.writer(file1)\n",
        "    # Writing the headers\n",
        "    writer.writerow(['train_loss', 'val_loss', 'train_acc', 'val_acc'])\n",
        "    # Writing the data\n",
        "    for i in range(len(qgnn_model_and_history[\"history\"][\"train_loss\"])):\n",
        "        writer.writerow([\n",
        "            qgnn_model_and_history[\"history\"][\"train_loss\"][i],\n",
        "            qgnn_model_and_history[\"history\"][\"val_loss\"][i],\n",
        "            qgnn_model_and_history[\"history\"][\"train_acc\"][i].cpu().numpy(),\n",
        "            qgnn_model_and_history[\"history\"][\"val_acc\"][i].cpu().numpy()\n",
        "        ])\n",
        "\n",
        "# Save last 4 variables to another CSV (fpr_eqgnn, tpr_eqgnn, labels_all, y_score_eqgnn)\n",
        "with open('qgnn_roc_data.csv', 'w', newline='') as file2:\n",
        "    writer = csv.writer(file2)\n",
        "    # Writing the headers\n",
        "    writer.writerow(['fpr_eqgnn', 'tpr_eqgnn', 'labels_all', 'y_score_eqgnn'])\n",
        "    # Writing the data\n",
        "    for i in range(len(fpr_qgnn)):\n",
        "        writer.writerow([\n",
        "            fpr_qgnn[i],\n",
        "            tpr_qgnn[i],\n",
        "            labels_all[i].cpu().numpy(),\n",
        "            y_score_qgnn[i].cpu().numpy()\n",
        "        ])\n"
      ],
      "metadata": {
        "id": "QNKQ1UvR_93v"
      },
      "id": "QNKQ1UvR_93v",
      "execution_count": 113,
      "outputs": []
    },
    {
      "cell_type": "code",
      "execution_count": 114,
      "metadata": {
        "id": "50c4ea94-04b0-49d5-a9e3-f809282e8a85"
      },
      "outputs": [],
      "source": [
        "np.save(plot_path+f'fpr_qgnn_{count}_{embedding_size}_{n_layers}_{seed}.npy',fpr_qgnn)\n",
        "np.save(plot_path+f'tpr_qgnn_{count}_{embedding_size}_{n_layers}_{seed}.npy',tpr_qgnn)\n",
        "np.save(plot_path+f'y_score_qgnn_{count}_{embedding_size}_{n_layers}_{seed}.npy',y_score_qgnn)\n",
        "np.save(plot_path+f'labels_all_qgnn_{count}_{embedding_size}_{n_layers}_{seed}.npy',labels_all.numpy())"
      ],
      "id": "50c4ea94-04b0-49d5-a9e3-f809282e8a85"
    },
    {
      "cell_type": "code",
      "execution_count": 115,
      "metadata": {
        "id": "3lDt1m1h85bQ",
        "colab": {
          "base_uri": "https://localhost:8080/",
          "height": 447
        },
        "outputId": "18337cf1-92b5-4bf4-efff-5d68748bb5e0"
      },
      "outputs": [
        {
          "output_type": "execute_result",
          "data": {
            "text/plain": [
              "<matplotlib.legend.Legend at 0x7b65aeb9c7f0>"
            ]
          },
          "metadata": {},
          "execution_count": 115
        },
        {
          "output_type": "display_data",
          "data": {
            "text/plain": [
              "<Figure size 640x480 with 1 Axes>"
            ],
            "image/png": "[encoded data removed]"
          },
          "metadata": {}
        }
      ],
      "source": [
        "plt.plot(fpr_qgnn,tpr_qgnn,label = f'AUC Score: {100*auc_score_qgnn:.3f}',c='b')\n",
        "plt.legend()"
      ],
      "id": "3lDt1m1h85bQ"
    },
    {
      "cell_type": "code",
      "execution_count": 116,
      "metadata": {
        "id": "5Y8-Ak_o_ZgU",
        "colab": {
          "base_uri": "https://localhost:8080/",
          "height": 435
        },
        "outputId": "2caff146-c3a1-4c32-c366-7329a0453781"
      },
      "outputs": [
        {
          "output_type": "stream",
          "name": "stdout",
          "text": [
            "Test Loss: 0.5608\n",
            "Test Accuracy: 72.2\n",
            "Area Under Curve (AUC): 0.7037\n",
            "F1 Score: 0.7209\n",
            "IMTAFE: 0.7349\n"
          ]
        },
        {
          "output_type": "display_data",
          "data": {
            "text/plain": [
              "<Figure size 400x300 with 2 Axes>"
            ],
            "image/png": "[encoded data removed]"
          },
          "metadata": {}
        }
      ],
      "source": [
        "import torch\n",
        "from sklearn.metrics import confusion_matrix, roc_curve, roc_auc_score, f1_score\n",
        "import matplotlib.pyplot as plt\n",
        "import copy\n",
        "\n",
        "model.eval()\n",
        "with torch.no_grad():\n",
        "    size = len(test_quantum_dataloader)\n",
        "    num_correct = 0\n",
        "    labels_all = None\n",
        "    total_loss = 0.0\n",
        "    criterion = torch.nn.CrossEntropyLoss()  # Assuming you're using CrossEntropyLoss\n",
        "\n",
        "    for i, data in enumerate(test_quantum_dataloader):\n",
        "        if i == 0:\n",
        "            node_size, n_feat = data[0].x.size()\n",
        "        batch_size = data.x.shape[0] // node_size\n",
        "        inputs = data.pos.reshape(batch_size, 2 * int(2**node_size) * int(2**node_size)).to(device)\n",
        "        labels = data.y.long().reshape(batch_size,).to(device)\n",
        "\n",
        "        labels_pred = model(inputs, data.x.cfloat().to(device))\n",
        "        loss = criterion(labels_pred, labels)\n",
        "        total_loss += loss.item() * batch_size\n",
        "        num_correct += (labels_pred.argmax(dim=1) == labels).sum().int()\n",
        "\n",
        "        if labels_all is not None:\n",
        "            labels_all = torch.cat([labels_all, labels], dim=0)\n",
        "            labels_pred_all = torch.cat([labels_pred_all, labels_pred], dim=0)\n",
        "        else:\n",
        "            labels_all = copy.deepcopy(labels)\n",
        "            labels_pred_all = copy.deepcopy(labels_pred)\n",
        "\n",
        "    # Calculate metrics\n",
        "    test_loss = total_loss / len(test_quantum_dataloader.dataset)\n",
        "    test_accuracy = 100.0 * num_correct / len(test_quantum_dataloader.dataset)\n",
        "\n",
        "    labels_all_cpu = labels_all.cpu()\n",
        "    labels_pred_all_cpu = labels_pred_all.cpu()\n",
        "\n",
        "    conf_matrix = confusion_matrix(y_true=labels_all_cpu, y_pred=labels_pred_all_cpu.argmax(dim=1))\n",
        "\n",
        "    first_idx = torch.arange(0, labels_pred_all.shape[0])\n",
        "    y_score_qgnn = labels_pred_all[(first_idx, labels_all.int())]\n",
        "    fpr_qgnn, tpr_qgnn, thresholds = roc_curve(labels_all_cpu, y_score_qgnn.cpu())\n",
        "    auc_score_qgnn = roc_auc_score(labels_all_cpu, y_score_qgnn.cpu())\n",
        "\n",
        "    f1 = f1_score(labels_all_cpu, labels_pred_all_cpu.argmax(dim=1), average='weighted')\n",
        "\n",
        "    # Calculate IMTAFE (assuming it's the Intersection over Mean)\n",
        "    TP = conf_matrix[1, 1]\n",
        "    FP = conf_matrix[0, 1]\n",
        "    FN = conf_matrix[1, 0]\n",
        "    IMTAFE = 2 * TP / (2 * TP + FP + FN)\n",
        "\n",
        "    # Print results\n",
        "    print(f\"Test Loss: {test_loss:.4f}\")\n",
        "    print(f\"Test Accuracy: {test_accuracy:.1f}\")\n",
        "    print(f\"Area Under Curve (AUC): {auc_score_qgnn:.4f}\")\n",
        "    print(f\"F1 Score: {f1:.4f}\")\n",
        "    print(f\"IMTAFE: {IMTAFE:.4f}\")\n",
        "\n",
        "    # Confusion Matrix Visualization\n",
        "    fig, ax = plt.subplots(figsize=(4, 3))\n",
        "    im = ax.imshow(conf_matrix, cmap=plt.cm.Blues, alpha=0.3)\n",
        "    for i in range(conf_matrix.shape[0]):\n",
        "        for j in range(conf_matrix.shape[1]):\n",
        "            ax.text(x=j, y=i, s=conf_matrix[i, j], va='center', ha='center', size='xx-large')\n",
        "    plt.xlabel('Pred', fontsize=18)\n",
        "    plt.ylabel('True', fontsize=18)\n",
        "    plt.title('Confusion Matrix for QGNN', fontsize=18)\n",
        "    plt.xticks(ticks=[0,1], labels=['Gluon','Quark'])\n",
        "    plt.yticks(ticks=[0,1], labels=['Gluon','Quark'])\n",
        "    plt.colorbar(im)\n",
        "    plt.show()\n",
        "\n",
        "# Note: Training metrics are not available in this evaluation code.\n",
        "# They should be collected during the training phase."
      ],
      "id": "5Y8-Ak_o_ZgU"
    },
    {
      "cell_type": "code",
      "source": [],
      "metadata": {
        "id": "AqefJZhD-qwP"
      },
      "id": "AqefJZhD-qwP",
      "execution_count": 116,
      "outputs": []
    }
  ],
  "metadata": {
    "colab": {
      "provenance": []
    },
    "kernelspec": {
      "display_name": "Python 3",
      "name": "python3"
    },
    "language_info": {
      "codemirror_mode": {
        "name": "ipython",
        "version": 3
      },
      "file_extension": ".py",
      "mimetype": "text/x-python",
      "name": "python",
      "nbconvert_exporter": "python",
      "pygments_lexer": "ipython3",
      "version": "3.11.3"
    }
  },
  "nbformat": 4,
  "nbformat_minor": 5
}